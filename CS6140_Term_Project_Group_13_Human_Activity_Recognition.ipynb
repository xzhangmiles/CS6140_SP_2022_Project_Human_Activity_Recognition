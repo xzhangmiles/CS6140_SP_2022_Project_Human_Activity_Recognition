{
 "cells": [
  {
   "cell_type": "markdown",
   "metadata": {},
   "source": [
    "References:\n",
    "1. https://machinelearningmastery.com/how-to-model-human-activity-from-smartphone-data/\n",
    "2. https://machinelearningmastery.com/evaluate-machine-learning-algorithms-for-human-activity-recognition/\n"
   ]
  },
  {
   "cell_type": "markdown",
   "metadata": {},
   "source": [
    "## Step 1: Import Necessary Libraries"
   ]
  },
  {
   "cell_type": "code",
   "execution_count": 2,
   "metadata": {
    "collapsed": true
   },
   "outputs": [],
   "source": [
    "import numpy as np\n",
    "from pandas import read_csv\n",
    "\n",
    "from sklearn import svm\n",
    "from sklearn.linear_model import LogisticRegression\n",
    "from sklearn.tree import DecisionTreeClassifier\n",
    "\n",
    "from sklearn.metrics import ConfusionMatrixDisplay, confusion_matrix, accuracy_score, recall_score, precision_score, f1_score, classification_report\n",
    "from sklearn.model_selection import RepeatedStratifiedKFold\n",
    "from sklearn.model_selection import GridSearchCV\n",
    "\n",
    "from sklearn.preprocessing import StandardScaler\n",
    "from sklearn.decomposition import IncrementalPCA\n",
    "\n",
    "import time\n",
    "\n",
    "import matplotlib.pyplot as plt\n",
    "import seaborn as sns\n",
    "%matplotlib inline\n",
    "\n",
    "from sklearn.neighbors import KNeighborsClassifier\n",
    "from sklearn.svm import SVC\n",
    "from sklearn.naive_bayes import GaussianNB\n",
    "from sklearn.ensemble import BaggingClassifier\n",
    "from sklearn.ensemble import RandomForestClassifier\n",
    "from sklearn.ensemble import ExtraTreesClassifier\n",
    "from sklearn.ensemble import GradientBoostingClassifier"
   ]
  },
  {
   "cell_type": "markdown",
   "metadata": {},
   "source": [
    "## Step 2: Load Dataset"
   ]
  },
  {
   "cell_type": "code",
   "execution_count": 3,
   "metadata": {
    "collapsed": true
   },
   "outputs": [],
   "source": [
    "# load dataset\n",
    "from numpy import dstack\n",
    "from pandas import read_csv\n",
    "\n",
    "# load a single file as a numpy array\n",
    "def load_file(filepath):\n",
    "    dataframe = read_csv(filepath, header=None, delim_whitespace=True)\n",
    "    return dataframe.values\n",
    " \n",
    "def load_dataset_group(group, prefix=''):\n",
    "    # load input data\n",
    "    X = load_file(prefix + group + '/X_'+group+'.txt')\n",
    "    # load class output\n",
    "    y = load_file(prefix + group + '/y_'+group+'.txt')\n",
    "    return X, y"
   ]
  },
  {
   "cell_type": "code",
   "execution_count": 4,
   "metadata": {},
   "outputs": [
    {
     "name": "stdout",
     "output_type": "stream",
     "text": [
      "(7352, 561) (7352, 1)\n",
      "(2947, 561) (2947, 1)\n",
      "(7352, 561) (7352,) (2947, 561) (2947,)\n",
      "(7352, 561) (7352,)\n",
      "(2947, 561) (2947,)\n"
     ]
    }
   ],
   "source": [
    "# load the dataset, returns train and test X and y elements\n",
    "def load_dataset(prefix=''):\n",
    "    # load all train\n",
    "    X_train, y_train = load_dataset_group('train', prefix + 'HARDataset/')\n",
    "    print(X_train.shape, y_train.shape)\n",
    "    # load all test\n",
    "    X_test, y_test = load_dataset_group('test', prefix + 'HARDataset/')\n",
    "    print(X_test.shape, y_test.shape)\n",
    "    # flatten y\n",
    "    y_train, y_test = y_train[:,0], y_test[:,0]\n",
    "    print(X_train.shape, y_train.shape, X_test.shape, y_test.shape)\n",
    "    return X_train, y_train, X_test, y_test\n",
    "\n",
    "# load dataset\n",
    "X_train, y_train, X_test, y_test = load_dataset()\n",
    "# load all train\n",
    "print(X_train.shape, y_train.shape)\n",
    "# load all test\n",
    "print(X_test.shape, y_test.shape)"
   ]
  },
  {
   "cell_type": "code",
   "execution_count": 5,
   "metadata": {},
   "outputs": [
    {
     "data": {
      "text/plain": [
       "array([[ 0.28858451, -0.02029417, -0.13290514, ..., -0.84124676,\n",
       "         0.17994061, -0.05862692],\n",
       "       [ 0.27841883, -0.01641057, -0.12352019, ..., -0.8447876 ,\n",
       "         0.18028889, -0.05431672],\n",
       "       [ 0.27965306, -0.01946716, -0.11346169, ..., -0.84893347,\n",
       "         0.18063731, -0.04911782],\n",
       "       ...,\n",
       "       [ 0.27338737, -0.01701062, -0.04502183, ..., -0.77913261,\n",
       "         0.24914484,  0.04081119],\n",
       "       [ 0.28965416, -0.01884304, -0.15828059, ..., -0.78518142,\n",
       "         0.24643223,  0.02533948],\n",
       "       [ 0.35150347, -0.01242312, -0.20386717, ..., -0.78326693,\n",
       "         0.24680852,  0.03669484]])"
      ]
     },
     "execution_count": 5,
     "metadata": {},
     "output_type": "execute_result"
    }
   ],
   "source": [
    "X_train"
   ]
  },
  {
   "cell_type": "markdown",
   "metadata": {},
   "source": [
    "## Step 3: Peform Feature Scaling"
   ]
  },
  {
   "cell_type": "code",
   "execution_count": 6,
   "metadata": {},
   "outputs": [
    {
     "data": {
      "text/plain": [
       "array([[ 0.20064157, -0.0636826 , -0.41962845, ..., -0.68721921,\n",
       "         0.40794614, -0.00756789],\n",
       "       [ 0.05594788,  0.03148567, -0.25390836, ..., -0.694138  ,\n",
       "         0.40911698,  0.00787517],\n",
       "       [ 0.07351535, -0.04341648, -0.07629468, ..., -0.702239  ,\n",
       "         0.4102883 ,  0.02650234],\n",
       "       ...,\n",
       "       [-0.01566765,  0.0167814 ,  1.13222107, ..., -0.56584847,\n",
       "         0.64059683,  0.34870928],\n",
       "       [ 0.21586648, -0.02812252, -0.86770988, ..., -0.57766781,\n",
       "         0.63147758,  0.29327564],\n",
       "       [ 1.09620157,  0.12919873, -1.67268082, ..., -0.57392691,\n",
       "         0.63274259,  0.33396081]])"
      ]
     },
     "execution_count": 6,
     "metadata": {},
     "output_type": "execute_result"
    }
   ],
   "source": [
    "scaler = StandardScaler()\n",
    "X_train, X_test = scaler.fit_transform(X_train), scaler.transform(X_test)\n",
    "X_train"
   ]
  },
  {
   "cell_type": "markdown",
   "metadata": {},
   "source": [
    "## Step 4: Train Different Models"
   ]
  },
  {
   "cell_type": "markdown",
   "metadata": {},
   "source": [
    "### (1) Decision Tree Model"
   ]
  },
  {
   "cell_type": "code",
   "execution_count": 10,
   "metadata": {},
   "outputs": [
    {
     "name": "stdout",
     "output_type": "stream",
     "text": [
      "Accuracy: 0.8547675602307431\n",
      "test accuracy:  0.8547675602307431\n",
      "test recall:  0.8515744276659203\n",
      "test precision:  0.8539934674980855\n",
      "test f1 score:  0.8521883252942355\n"
     ]
    },
    {
     "data": {
      "image/png": "[encoded data removed]",
      "text/plain": [
       "<Figure size 936x864 with 2 Axes>"
      ]
     },
     "metadata": {
      "needs_background": "light"
     },
     "output_type": "display_data"
    }
   ],
   "source": [
    "from sklearn.tree import DecisionTreeClassifier\n",
    "decision_tree = DecisionTreeClassifier()\n",
    "decision_tree.fit(X_train, y_train)\n",
    "\n",
    "y_pred = decision_tree.predict(X_test)\n",
    "from sklearn import metrics\n",
    "# Model Accuracy, how often is the classifier correct?\n",
    "print(\"Accuracy:\",metrics.accuracy_score(y_test, y_pred))\n",
    "print(\"test accuracy: \", end=\" \")\n",
    "print(accuracy_score(y_test, y_pred))\n",
    "print(\"test recall: \", end=\" \")\n",
    "print(recall_score(y_test,y_pred , average='macro'))\n",
    "print(\"test precision: \", end=\" \")\n",
    "print(precision_score(y_test, y_pred, average='macro'))\n",
    "print(\"test f1 score: \", end=\" \")\n",
    "print(f1_score(y_test, y_pred, average='macro'))\n",
    "\n",
    "from sklearn.metrics import ConfusionMatrixDisplay, confusion_matrix\n",
    "\n",
    "# a helper function to plot confusion_matrix\n",
    "def plot_confusion_matrix(y_test, y_pred):\n",
    "    fig, ax = plt.subplots(figsize=(13, 12))\n",
    "    plt.rcParams.update({'font.size': 9})\n",
    "    cmp = ConfusionMatrixDisplay(\n",
    "        confusion_matrix(y_test, y_pred),\n",
    "        display_labels=[\"WALKING\", \"WALKING_UPSTAIRS\", \"WALKING_DOWNSTAIRS\", \"SITTING\",\"STANDING\",\"LAYING\"],\n",
    "    )\n",
    "    cmp.plot(ax=ax)\n",
    "    plt.show();\n",
    "\n",
    "plot_confusion_matrix(y_test, y_pred)"
   ]
  },
  {
   "cell_type": "markdown",
   "metadata": {},
   "source": [
    "### (2) Random Forest Model"
   ]
  },
  {
   "cell_type": "code",
   "execution_count": 11,
   "metadata": {},
   "outputs": [
    {
     "name": "stdout",
     "output_type": "stream",
     "text": [
      "Accuracy: 0.9250084832032576\n",
      "test accuracy:  0.9250084832032576\n",
      "test recall:  0.9215603543408649\n",
      "test precision:  0.9259725183820972\n",
      "test f1 score:  0.9227910927928086\n"
     ]
    },
    {
     "data": {
      "image/png": "[encoded data removed]",
      "text/plain": [
       "<Figure size 936x864 with 2 Axes>"
      ]
     },
     "metadata": {
      "needs_background": "light"
     },
     "output_type": "display_data"
    }
   ],
   "source": [
    "# Random Forest\n",
    "# Import Random Forest Model\n",
    "from sklearn.ensemble import RandomForestClassifier\n",
    "from sklearn.metrics import confusion_matrix,accuracy_score, recall_score, precision_score, f1_score\n",
    "#Create a Gaussian Classifier\n",
    "clf = RandomForestClassifier(n_estimators=100)\n",
    "\n",
    "#Train the model using the training sets \n",
    "history = clf.fit(X_train, y_train)\n",
    "\n",
    "y_pred = clf.predict(X_test)\n",
    "# Import scikit-learn metrics module for accuracy calculation\n",
    "from sklearn import metrics\n",
    "# Model Accuracy, how often is the classifier correct?\n",
    "print(\"Accuracy:\",metrics.accuracy_score(y_test, y_pred))\n",
    "print(\"test accuracy: \", end=\" \")\n",
    "print(accuracy_score(y_test, y_pred))\n",
    "print(\"test recall: \", end=\" \")\n",
    "print(recall_score(y_test,y_pred , average='macro'))\n",
    "print(\"test precision: \", end=\" \")\n",
    "print(precision_score(y_test, y_pred, average='macro'))\n",
    "print(\"test f1 score: \", end=\" \")\n",
    "print(f1_score(y_test, y_pred, average='macro'))\n",
    "\n",
    "plot_confusion_matrix(y_test, y_pred)"
   ]
  },
  {
   "cell_type": "markdown",
   "metadata": {},
   "source": [
    "### (3) Logistic Regression Model"
   ]
  },
  {
   "cell_type": "markdown",
   "metadata": {},
   "source": [
    "#### - Hyperparameters Tuning for the Logistic Regression Algorithm"
   ]
  },
  {
   "cell_type": "code",
   "execution_count": 17,
   "metadata": {},
   "outputs": [
    {
     "name": "stdout",
     "output_type": "stream",
     "text": [
      "Best accuracy score is 0.9371672747957103 using {'C': 1.0}\n"
     ]
    }
   ],
   "source": [
    "lr_clf_param = LogisticRegression(multi_class='multinomial', solver='newton-cg')\n",
    "\n",
    "# Choose two hyperparmeters\n",
    "Cs = [0.01, 0.1, 1.0, 10, 100]\n",
    "\n",
    "# Dictionary with parameters names (str) as keys and lists of parameter settings to try as value\n",
    "grid = dict(C=Cs)\n",
    "\n",
    "folds = 5\n",
    "# Loop through predefined hyperparameters (Cs) and fit LR model on the training set\n",
    "grid_search = GridSearchCV(estimator=lr_clf_param, param_grid=grid, cv=folds, scoring='accuracy', error_score=0)\n",
    "result = grid_search.fit(X_train, y_train)\n",
    "\n",
    "print(\"Best accuracy score is {} using {}\".format(result.best_score_, result.best_params_))"
   ]
  },
  {
   "cell_type": "markdown",
   "metadata": {},
   "source": [
    "#### - Train the Logistic Regression Model "
   ]
  },
  {
   "cell_type": "code",
   "execution_count": 14,
   "metadata": {},
   "outputs": [
    {
     "name": "stdout",
     "output_type": "stream",
     "text": [
      "training accuracy:  0.9925190424374319\n",
      "training recall:  0.9931126685848345\n",
      "training precision:  0.9930896133039161\n",
      "training f1 score:  0.993100724471089\n",
      "___________________________________________________________________________________\n",
      "test accuracy:  0.9613165931455717\n",
      "test recall:  0.9604495428814039\n",
      "test precision:  0.9636890559270603\n",
      "test f1 score:  0.9612583346138974\n"
     ]
    }
   ],
   "source": [
    "lr_clf = LogisticRegression(multi_class='multinomial', solver='newton-cg', C=1.0, random_state=0)\n",
    "lr_clf.fit(X_train, y_train)\n",
    "\n",
    "train_y_predict = lr_clf.predict(X_train)\n",
    "\n",
    "print(\"training accuracy: \", end=\" \")\n",
    "print(accuracy_score(y_train, train_y_predict))\n",
    "print(\"training recall: \", end=\" \")\n",
    "print(recall_score(y_train, train_y_predict, average='macro'))\n",
    "print(\"training precision: \", end=\" \")\n",
    "print(precision_score(y_train, train_y_predict, average='macro'))\n",
    "print(\"training f1 score: \", end=\" \")\n",
    "print(f1_score(y_train, train_y_predict, average='macro'))\n",
    "print(\"___________________________________________________________________________________\")\n",
    "test_y_predict = lr_clf.predict(X_test)\n",
    "print(\"test accuracy: \", end=\" \")\n",
    "print(accuracy_score(y_test, test_y_predict))\n",
    "print(\"test recall: \", end=\" \")\n",
    "print(recall_score(y_test, test_y_predict, average='macro'))\n",
    "print(\"test precision: \", end=\" \")\n",
    "print(precision_score(y_test, test_y_predict, average='macro'))\n",
    "print(\"test f1 score: \", end=\" \")\n",
    "print(f1_score(y_test, test_y_predict, average='macro'))"
   ]
  },
  {
   "cell_type": "code",
   "execution_count": 15,
   "metadata": {},
   "outputs": [
    {
     "name": "stdout",
     "output_type": "stream",
     "text": [
      "                    precision    recall  f1-score   support\n",
      "\n",
      "           WALKING       0.94      0.99      0.97       496\n",
      "  WALKING_UPSTAIRS       0.97      0.94      0.96       471\n",
      "WALKING_DOWNSTAIRS       0.99      0.97      0.98       420\n",
      "           SITTING       0.98      0.88      0.93       491\n",
      "          STANDING       0.90      0.98      0.94       532\n",
      "            LAYING       1.00      1.00      1.00       537\n",
      "\n",
      "          accuracy                           0.96      2947\n",
      "         macro avg       0.96      0.96      0.96      2947\n",
      "      weighted avg       0.96      0.96      0.96      2947\n",
      "\n"
     ]
    }
   ],
   "source": [
    "target_names = [\"WALKING\", \"WALKING_UPSTAIRS\", \"WALKING_DOWNSTAIRS\", \"SITTING\",\"STANDING\",\"LAYING\"]\n",
    "\n",
    "print(classification_report(y_test, test_y_predict, target_names=target_names))"
   ]
  },
  {
   "cell_type": "code",
   "execution_count": 18,
   "metadata": {},
   "outputs": [
    {
     "data": {
      "image/png": "[encoded data removed]",
      "text/plain": [
       "<Figure size 1008x864 with 2 Axes>"
      ]
     },
     "metadata": {
      "needs_background": "light"
     },
     "output_type": "display_data"
    }
   ],
   "source": [
    "from sklearn.metrics import ConfusionMatrixDisplay, confusion_matrix\n",
    "\n",
    "# a helper function to plot confusion_matrix\n",
    "def plot_confusion_matrix(y_test, y_pred):\n",
    "    fig, ax = plt.subplots(figsize=(14, 12))\n",
    "    plt.rcParams.update({'font.size': 9})\n",
    "    cmp = ConfusionMatrixDisplay(\n",
    "        confusion_matrix(y_test, y_pred),\n",
    "        display_labels=[\"WALKING\", \"WALKING_UPSTAIRS\", \"WALKING_DOWNSTAIRS\", \"SITTING\",\"STANDING\",\"LAYING\"],\n",
    "    )\n",
    "    cmp.plot(ax=ax)\n",
    "    plt.show();\n",
    "\n",
    "plot_confusion_matrix(y_test, test_y_predict)"
   ]
  },
  {
   "cell_type": "markdown",
   "metadata": {},
   "source": [
    "### (4) SVM model"
   ]
  },
  {
   "cell_type": "code",
   "execution_count": 137,
   "metadata": {},
   "outputs": [
    {
     "name": "stdout",
     "output_type": "stream",
     "text": [
      "training accuracy:  0.9968715995647442\n",
      "training recall:  0.9971353877800189\n",
      "training precision:  0.9970969252586269\n",
      "training f1 score:  0.9971149855563012\n",
      "___________________________________________________________________________________\n",
      "test accuracy:  0.9609772650152698\n",
      "test recall:  0.9599738518262332\n",
      "test precision:  0.9628883486486844\n",
      "test f1 score:  0.9608444740026177\n",
      "The time of execution of above program is : 5.7660231590271\n"
     ]
    }
   ],
   "source": [
    "# SVM model (Dan Li)\n",
    "\n",
    "def svm_model(X_train, y_train, X_test, y_test):\n",
    "    # Step1: finding best params\n",
    "    # ml = svm.SVC()\n",
    "    # # setting different kernel by change the value of parameter 'kernel'\n",
    "    # param_grid = {'C': [1, 10, 100, 1000, 10000],\n",
    "    #               'kernel': ['sigmoid']}\n",
    "    # grid = GridSearchCV(ml, param_grid, refit=True, verbose=1, cv=15)\n",
    "    # # fitting the model for grid search\n",
    "    # grid_search = grid.fit(X_train, y_train)\n",
    "    # best_params = grid_search.best_params_\n",
    "    # print(grid_search.best_params_)\n",
    "\n",
    "\n",
    "    # Step2: train and predict model by best params\n",
    "    # setting different kernel by change the value of parameter 'kernel'\n",
    "    model = svm.SVC(kernel='linear', C=1)\n",
    "    model.fit(X_train, y_train)\n",
    "    train_y_predict = model.predict(X_train)\n",
    "    print(\"training accuracy: \", end=\" \")\n",
    "    print(accuracy_score(y_train, train_y_predict))\n",
    "    print(\"training recall: \", end=\" \")\n",
    "    print(recall_score(y_train, train_y_predict, average='macro'))\n",
    "    print(\"training precision: \", end=\" \")\n",
    "    print(precision_score(y_train, train_y_predict, average='macro'))\n",
    "    print(\"training f1 score: \", end=\" \")\n",
    "    print(f1_score(y_train, train_y_predict, average='macro'))\n",
    "    print(\"___________________________________________________________________________________\")\n",
    "    test_y_predict = model.predict(X_test)\n",
    "    print(\"test accuracy: \", end=\" \")\n",
    "    print(accuracy_score(y_test, test_y_predict))\n",
    "    print(\"test recall: \", end=\" \")\n",
    "    print(recall_score(y_test, test_y_predict, average='macro'))\n",
    "    print(\"test precision: \", end=\" \")\n",
    "    print(precision_score(y_test, test_y_predict, average='macro'))\n",
    "    print(\"test f1 score: \", end=\" \")\n",
    "    print(f1_score(y_test, test_y_predict, average='macro'))\n",
    "\n",
    "    # Step3: plot confusion matrix\n",
    "    # cm = confusion_matrix(y_test, test_y_predict, labels=model.classes_)\n",
    "    # disp = ConfusionMatrixDisplay(confusion_matrix=cm, display_labels=model.classes_)\n",
    "    # disp.plot()\n",
    "    # plt.show()\n",
    "start = time.time()\n",
    "svm_model(X_train, y_train, X_test, y_test)\n",
    "end = time.time()\n",
    "print(\"The time of execution of above program is :\", end - start)"
   ]
  },
  {
   "cell_type": "markdown",
   "metadata": {},
   "source": [
    "### (5) LSTM Model"
   ]
  },
  {
   "cell_type": "code",
   "execution_count": 1,
   "metadata": {},
   "outputs": [],
   "source": [
    "import numpy as np\n",
    "import pandas as pd\n",
    "from keras import backend as K\n",
    "from keras.models import Sequential\n",
    "from keras.layers import LSTM\n",
    "from keras.layers.core import Dense, Dropout\n",
    "np.random.seed(42)\n",
    "\n",
    "import time"
   ]
  },
  {
   "cell_type": "code",
   "execution_count": 2,
   "metadata": {},
   "outputs": [
    {
     "name": "stdout",
     "output_type": "stream",
     "text": [
      "(7352, 128, 9) (7352, 6)\n",
      "(2947, 128, 9) (2947, 6)\n"
     ]
    }
   ],
   "source": [
    "ACTIVITIES = {\n",
    "    0: 'WALKING',\n",
    "    1: 'WALKING_UPSTAIRS',\n",
    "    2: 'WALKING_DOWNSTAIRS',\n",
    "    3: 'SITTING',\n",
    "    4: 'STANDING',\n",
    "    5: 'LAYING',\n",
    "}\n",
    "n_classes=len(ACTIVITIES)\n",
    "\n",
    "# load a single file as a numpy array\n",
    "def load_file(filepath):\n",
    "    dataframe = pd.read_csv(filepath, header=None, delim_whitespace=True)\n",
    "    return dataframe.values\n",
    "\n",
    "# load a list of files, such as x, y, z data for a given variable\n",
    "def load_group(filenames, prefix=''):\n",
    "    loaded = list()\n",
    "    for name in filenames:\n",
    "        data = load_file(prefix + name)\n",
    "        loaded.append(data)\n",
    "    # stack group so that features are the 3rd dimension\n",
    "    loaded = np.dstack(loaded)\n",
    "    return loaded\n",
    "\n",
    "# load a dataset group, such as train or test\n",
    "def load_dataset(group, prefix=''):\n",
    "    filepath = prefix + group + '/Inertial Signals/'\n",
    "    # load all 9 files as a single array\n",
    "    filenames = list()\n",
    "    # total acceleration\n",
    "    filenames += ['total_acc_x_'+group+'.txt', 'total_acc_y_'+group+'.txt', 'total_acc_z_'+group+'.txt']\n",
    "    # body acceleration\n",
    "    filenames += ['body_acc_x_'+group+'.txt', 'body_acc_y_'+group+'.txt', 'body_acc_z_'+group+'.txt']\n",
    "    # body gyroscope\n",
    "    filenames += ['body_gyro_x_'+group+'.txt', 'body_gyro_y_'+group+'.txt', 'body_gyro_z_'+group+'.txt']\n",
    "    # load input data\n",
    "    X = load_group(filenames, filepath)\n",
    "    # load class output\n",
    "    y = load_file(prefix + group + '/y_'+group+'.txt')\n",
    "    y = np.squeeze(np.eye(n_classes)[np.reshape(y-1,(-1,)).reshape(-1)])\n",
    "    return X, y\n",
    "\n",
    "# load all train\n",
    "X_train, y_train = load_dataset('train', './HARDataset/')\n",
    "print(X_train.shape, y_train.shape)\n",
    "# load all test\n",
    "X_test, y_test = load_dataset('test', './HARDataset/')\n",
    "print(X_test.shape, y_test.shape)"
   ]
  },
  {
   "cell_type": "code",
   "execution_count": 3,
   "metadata": {},
   "outputs": [
    {
     "name": "stdout",
     "output_type": "stream",
     "text": [
      "7352\n",
      "128\n",
      "9\n"
     ]
    }
   ],
   "source": [
    "epochs = 50\n",
    "batch_size = 16\n",
    "n_hidden = 32\n",
    "timesteps = len(X_train[0])\n",
    "input_dim = len(X_train[0][0])\n",
    "\n",
    "print(len(X_train))\n",
    "print(timesteps)\n",
    "print(input_dim)"
   ]
  },
  {
   "cell_type": "code",
   "execution_count": 4,
   "metadata": {},
   "outputs": [
    {
     "name": "stdout",
     "output_type": "stream",
     "text": [
      "Model: \"sequential\"\n",
      "_________________________________________________________________\n",
      " Layer (type)                Output Shape              Param #   \n",
      "=================================================================\n",
      " lstm (LSTM)                 (None, 32)                5376      \n",
      "                                                                 \n",
      " dropout (Dropout)           (None, 32)                0         \n",
      "                                                                 \n",
      " dense (Dense)               (None, 6)                 198       \n",
      "                                                                 \n",
      "=================================================================\n",
      "Total params: 5,574\n",
      "Trainable params: 5,574\n",
      "Non-trainable params: 0\n",
      "_________________________________________________________________\n"
     ]
    }
   ],
   "source": [
    "# Initiliazing the sequential model\n",
    "model = Sequential()\n",
    "# Configuring the parameters\n",
    "model.add(LSTM(n_hidden, input_shape=(timesteps, input_dim)))\n",
    "# Adding a dropout layer\n",
    "model.add(Dropout(0.5))\n",
    "# Adding a dense output layer with sigmoid activation\n",
    "model.add(Dense(n_classes, activation='sigmoid'))\n",
    "\n",
    "# Compiling the model\n",
    "model.compile(loss='categorical_crossentropy',\n",
    "              optimizer='rmsprop',\n",
    "              metrics=['accuracy'])\n",
    "model.summary()"
   ]
  },
  {
   "cell_type": "code",
   "execution_count": 5,
   "metadata": {},
   "outputs": [
    {
     "name": "stdout",
     "output_type": "stream",
     "text": [
      "Epoch 1/50\n",
      "460/460 [==============================] - 22s 43ms/step - loss: 1.1262 - accuracy: 0.5456 - val_loss: 0.9170 - val_accuracy: 0.6312\n",
      "Epoch 2/50\n",
      "460/460 [==============================] - 19s 41ms/step - loss: 0.8145 - accuracy: 0.6348 - val_loss: 0.7715 - val_accuracy: 0.6814\n",
      "Epoch 3/50\n",
      "460/460 [==============================] - 19s 40ms/step - loss: 0.6935 - accuracy: 0.6866 - val_loss: 0.7159 - val_accuracy: 0.7143\n",
      "Epoch 4/50\n",
      "460/460 [==============================] - 18s 39ms/step - loss: 0.5887 - accuracy: 0.7656 - val_loss: 0.6045 - val_accuracy: 0.7791\n",
      "Epoch 5/50\n",
      "460/460 [==============================] - 18s 40ms/step - loss: 0.4573 - accuracy: 0.8403 - val_loss: 0.6032 - val_accuracy: 0.7927\n",
      "Epoch 6/50\n",
      "460/460 [==============================] - 18s 39ms/step - loss: 0.3534 - accuracy: 0.8863 - val_loss: 0.4922 - val_accuracy: 0.8507\n",
      "Epoch 7/50\n",
      "460/460 [==============================] - 18s 39ms/step - loss: 0.2561 - accuracy: 0.9170 - val_loss: 0.4628 - val_accuracy: 0.8473\n",
      "Epoch 8/50\n",
      "460/460 [==============================] - 18s 39ms/step - loss: 0.2220 - accuracy: 0.9270 - val_loss: 0.5169 - val_accuracy: 0.8565\n",
      "Epoch 9/50\n",
      "460/460 [==============================] - 18s 40ms/step - loss: 0.2084 - accuracy: 0.9336 - val_loss: 0.3530 - val_accuracy: 0.8826\n",
      "Epoch 10/50\n",
      "460/460 [==============================] - 18s 39ms/step - loss: 0.1926 - accuracy: 0.9366 - val_loss: 0.4463 - val_accuracy: 0.8731\n",
      "Epoch 11/50\n",
      "460/460 [==============================] - 18s 39ms/step - loss: 0.1861 - accuracy: 0.9361 - val_loss: 0.3521 - val_accuracy: 0.8819\n",
      "Epoch 12/50\n",
      "460/460 [==============================] - 20s 44ms/step - loss: 0.1783 - accuracy: 0.9377 - val_loss: 0.4926 - val_accuracy: 0.8850\n",
      "Epoch 13/50\n",
      "460/460 [==============================] - 22s 47ms/step - loss: 0.2219 - accuracy: 0.9309 - val_loss: 0.4401 - val_accuracy: 0.8806\n",
      "Epoch 14/50\n",
      "460/460 [==============================] - 21s 45ms/step - loss: 0.1762 - accuracy: 0.9404 - val_loss: 0.3338 - val_accuracy: 0.8911\n",
      "Epoch 15/50\n",
      "460/460 [==============================] - 19s 40ms/step - loss: 0.1682 - accuracy: 0.9410 - val_loss: 0.3840 - val_accuracy: 0.8887\n",
      "Epoch 16/50\n",
      "460/460 [==============================] - 18s 40ms/step - loss: 0.1631 - accuracy: 0.9453 - val_loss: 0.4313 - val_accuracy: 0.8918\n",
      "Epoch 17/50\n",
      "460/460 [==============================] - 18s 39ms/step - loss: 0.1639 - accuracy: 0.9430 - val_loss: 0.3836 - val_accuracy: 0.8924\n",
      "Epoch 18/50\n",
      "460/460 [==============================] - 18s 40ms/step - loss: 0.1636 - accuracy: 0.9464 - val_loss: 0.3045 - val_accuracy: 0.9033\n",
      "Epoch 19/50\n",
      "460/460 [==============================] - 19s 41ms/step - loss: 0.1474 - accuracy: 0.9487 - val_loss: 0.3898 - val_accuracy: 0.8931\n",
      "Epoch 20/50\n",
      "460/460 [==============================] - 18s 40ms/step - loss: 0.1499 - accuracy: 0.9464 - val_loss: 0.3925 - val_accuracy: 0.8985\n",
      "Epoch 21/50\n",
      "460/460 [==============================] - 18s 40ms/step - loss: 0.1842 - accuracy: 0.9465 - val_loss: 0.3743 - val_accuracy: 0.8975\n",
      "Epoch 22/50\n",
      "460/460 [==============================] - 18s 39ms/step - loss: 0.1500 - accuracy: 0.9461 - val_loss: 0.3573 - val_accuracy: 0.9009\n",
      "Epoch 23/50\n",
      "460/460 [==============================] - 18s 40ms/step - loss: 0.1888 - accuracy: 0.9444 - val_loss: 0.3387 - val_accuracy: 0.8958\n",
      "Epoch 24/50\n",
      "460/460 [==============================] - 18s 40ms/step - loss: 0.1507 - accuracy: 0.9453 - val_loss: 0.4619 - val_accuracy: 0.9019\n",
      "Epoch 25/50\n",
      "460/460 [==============================] - 18s 40ms/step - loss: 0.1478 - accuracy: 0.9474 - val_loss: 0.4255 - val_accuracy: 0.8945\n",
      "Epoch 26/50\n",
      "460/460 [==============================] - 18s 40ms/step - loss: 0.1405 - accuracy: 0.9487 - val_loss: 0.4334 - val_accuracy: 0.9101\n",
      "Epoch 27/50\n",
      "460/460 [==============================] - 18s 40ms/step - loss: 0.1428 - accuracy: 0.9487 - val_loss: 0.4890 - val_accuracy: 0.8999\n",
      "Epoch 28/50\n",
      "460/460 [==============================] - 19s 40ms/step - loss: 0.1434 - accuracy: 0.9487 - val_loss: 0.4625 - val_accuracy: 0.9104\n",
      "Epoch 29/50\n",
      "460/460 [==============================] - 19s 42ms/step - loss: 0.1269 - accuracy: 0.9523 - val_loss: 0.6123 - val_accuracy: 0.9009\n",
      "Epoch 30/50\n",
      "460/460 [==============================] - 21s 46ms/step - loss: 0.1345 - accuracy: 0.9494 - val_loss: 0.5100 - val_accuracy: 0.8996\n",
      "Epoch 31/50\n",
      "460/460 [==============================] - 20s 43ms/step - loss: 0.1340 - accuracy: 0.9517 - val_loss: 0.4603 - val_accuracy: 0.9060\n",
      "Epoch 32/50\n",
      "460/460 [==============================] - 19s 40ms/step - loss: 0.1400 - accuracy: 0.9491 - val_loss: 0.5174 - val_accuracy: 0.8938\n",
      "Epoch 33/50\n",
      "460/460 [==============================] - 19s 40ms/step - loss: 0.1284 - accuracy: 0.9536 - val_loss: 0.5210 - val_accuracy: 0.9046\n",
      "Epoch 34/50\n",
      "460/460 [==============================] - 19s 40ms/step - loss: 0.1443 - accuracy: 0.9533 - val_loss: 0.5650 - val_accuracy: 0.9023\n",
      "Epoch 35/50\n",
      "460/460 [==============================] - 18s 39ms/step - loss: 0.1263 - accuracy: 0.9542 - val_loss: 0.7223 - val_accuracy: 0.8853\n",
      "Epoch 36/50\n",
      "460/460 [==============================] - 19s 42ms/step - loss: 0.1287 - accuracy: 0.9551 - val_loss: 0.8034 - val_accuracy: 0.8911\n",
      "Epoch 37/50\n",
      "460/460 [==============================] - 20s 43ms/step - loss: 0.1350 - accuracy: 0.9529 - val_loss: 0.6024 - val_accuracy: 0.9026\n",
      "Epoch 38/50\n",
      "460/460 [==============================] - 19s 42ms/step - loss: 0.1372 - accuracy: 0.9497 - val_loss: 0.6067 - val_accuracy: 0.9026\n",
      "Epoch 39/50\n",
      "460/460 [==============================] - 20s 43ms/step - loss: 0.1293 - accuracy: 0.9524 - val_loss: 0.5938 - val_accuracy: 0.8985\n",
      "Epoch 40/50\n",
      "460/460 [==============================] - 20s 43ms/step - loss: 0.1320 - accuracy: 0.9514 - val_loss: 0.5780 - val_accuracy: 0.9013\n",
      "Epoch 41/50\n",
      "460/460 [==============================] - 20s 43ms/step - loss: 0.1296 - accuracy: 0.9543 - val_loss: 0.5751 - val_accuracy: 0.9009\n",
      "Epoch 42/50\n",
      "460/460 [==============================] - 20s 45ms/step - loss: 0.1306 - accuracy: 0.9509 - val_loss: 0.4949 - val_accuracy: 0.9070\n",
      "Epoch 43/50\n",
      "460/460 [==============================] - 21s 45ms/step - loss: 0.1351 - accuracy: 0.9509 - val_loss: 0.5722 - val_accuracy: 0.9023\n",
      "Epoch 44/50\n",
      "460/460 [==============================] - 20s 45ms/step - loss: 0.1273 - accuracy: 0.9531 - val_loss: 0.4710 - val_accuracy: 0.9080\n",
      "Epoch 45/50\n",
      "460/460 [==============================] - 21s 45ms/step - loss: 0.3250 - accuracy: 0.9267 - val_loss: 0.6655 - val_accuracy: 0.8979\n",
      "Epoch 46/50\n",
      "460/460 [==============================] - 20s 42ms/step - loss: 0.1514 - accuracy: 0.9551 - val_loss: 0.5014 - val_accuracy: 0.9077\n",
      "Epoch 47/50\n",
      "460/460 [==============================] - 19s 41ms/step - loss: 0.1673 - accuracy: 0.9459 - val_loss: 0.5739 - val_accuracy: 0.9070\n",
      "Epoch 48/50\n",
      "460/460 [==============================] - 19s 41ms/step - loss: 0.1272 - accuracy: 0.9536 - val_loss: 0.5504 - val_accuracy: 0.9046\n",
      "Epoch 49/50\n",
      "460/460 [==============================] - 19s 41ms/step - loss: 0.1712 - accuracy: 0.9489 - val_loss: 0.5531 - val_accuracy: 0.8962\n",
      "Epoch 50/50\n",
      "460/460 [==============================] - 19s 40ms/step - loss: 0.1448 - accuracy: 0.9465 - val_loss: 0.5635 - val_accuracy: 0.9033\n"
     ]
    }
   ],
   "source": [
    "# Training the model\n",
    "start = time.time()\n",
    "history = model.fit(X_train,\n",
    "          y_train,\n",
    "          batch_size=batch_size,\n",
    "          validation_data=(X_test, y_test),\n",
    "          epochs=epochs)"
   ]
  },
  {
   "cell_type": "code",
   "execution_count": 6,
   "metadata": {},
   "outputs": [
    {
     "data": {
      "image/png": "[encoded data removed]",
      "text/plain": [
       "<Figure size 432x288 with 1 Axes>"
      ]
     },
     "metadata": {
      "needs_background": "light"
     },
     "output_type": "display_data"
    },
    {
     "name": "stdout",
     "output_type": "stream",
     "text": [
      "The time of execution of above program is : 955.9744462966919\n"
     ]
    }
   ],
   "source": [
    "#visualizing training process loss and accuracy\n",
    "from matplotlib import pyplot as plt\n",
    "plt.plot(history.history['accuracy'])\n",
    "plt.plot(history.history['val_accuracy'])\n",
    "plt.plot(history.history['loss'])\n",
    "plt.plot(history.history['val_loss'])\n",
    "plt.title('model loss and accuracy')\n",
    "plt.ylabel('accuracy')\n",
    "plt.xlabel('epoch')\n",
    "plt.legend(['train accuracy', 'val accuracy', 'train loss', 'val loss'], loc='upper right')\n",
    "plt.show()\n",
    "y_pred = model.predict(X_test)\n",
    "end = time.time()\n",
    "print(\"The time of execution of above program is :\", end - start)"
   ]
  },
  {
   "cell_type": "code",
   "execution_count": 7,
   "metadata": {},
   "outputs": [
    {
     "data": {
      "image/png": "[encoded data removed]",
      "text/plain": [
       "<Figure size 576x360 with 2 Axes>"
      ]
     },
     "metadata": {
      "needs_background": "light"
     },
     "output_type": "display_data"
    }
   ],
   "source": [
    "from sklearn.metrics import ConfusionMatrixDisplay, confusion_matrix\n",
    "fig, ax = plt.subplots(figsize=(8, 5))\n",
    "cmp = ConfusionMatrixDisplay(\n",
    "    confusion_matrix(np.argmax(y_test, axis=1), np.argmax(y_pred, axis=1)),\n",
    "    display_labels=[\"WALKING\", \"WALKING_UPSTAIRS\", \"WALKING_DOWNSTAIRS\", \"SITTING\",\"STANDING\",\"LAYING\"],\n",
    ")\n",
    "cmp.plot(ax=ax)\n",
    "plt.show();"
   ]
  },
  {
   "cell_type": "code",
   "execution_count": 8,
   "metadata": {},
   "outputs": [
    {
     "name": "stdout",
     "output_type": "stream",
     "text": [
      "                    precision    recall  f1-score   support\n",
      "\n",
      "           WALKING      0.987     0.907     0.945       496\n",
      "  WALKING_UPSTAIRS      0.904     0.964     0.933       471\n",
      "WALKING_DOWNSTAIRS      0.899     0.993     0.943       420\n",
      "           SITTING      0.845     0.756     0.798       491\n",
      "          STANDING      0.800     0.865     0.831       532\n",
      "            LAYING      0.998     0.950     0.973       537\n",
      "\n",
      "          accuracy                          0.903      2947\n",
      "         macro avg      0.906     0.906     0.904      2947\n",
      "      weighted avg      0.906     0.903     0.903      2947\n",
      "\n"
     ]
    }
   ],
   "source": [
    "from sklearn.metrics import classification_report\n",
    "target_names = [\"WALKING\", \"WALKING_UPSTAIRS\", \"WALKING_DOWNSTAIRS\", \"SITTING\",\"STANDING\",\"LAYING\"]\n",
    "print(classification_report(np.argmax(y_test, axis=1), np.argmax(y_pred, axis=1), target_names=target_names,digits=3))"
   ]
  },
  {
   "cell_type": "markdown",
   "metadata": {
    "collapsed": true
   },
   "source": [
    "## Step 6: Conclusion"
   ]
  },
  {
   "cell_type": "code",
   "execution_count": 3,
   "metadata": {},
   "outputs": [
    {
     "name": "stdout",
     "output_type": "stream",
     "text": [
      "+---------------------------------+---------------+-------------------+\n",
      "|              Model              | Test Accuracy | Time of Execution |\n",
      "+---------------------------------+---------------+-------------------+\n",
      "|          Decision Tree          |     0.855     |        3.29       |\n",
      "|          Random Forest          |     0.925     |        8.18       |\n",
      "| Multinomial Logistic Regression |     0.961     |        4.54       |\n",
      "|           SVM (linear)          |     0.964     |        5.76       |\n",
      "|               LSTM              |      0.91     |         0         |\n",
      "+---------------------------------+---------------+-------------------+\n"
     ]
    }
   ],
   "source": [
    "from prettytable import PrettyTable\n",
    "\n",
    "l = [[\"Decision Tree\", 0.855, 3.29], [\"Random Forest\", 0.925, 8.18], [\"Multinomial Logistic Regression\", 0.961, 4.54], \n",
    "     [\"SVM (linear)\", 0.964, 5.76], [\"LSTM\", 0.903, 0]]\n",
    "\n",
    "table = PrettyTable(['Model', 'Test Accuracy', 'Time of Execution'])\n",
    "\n",
    "for rec in l:\n",
    "    table.add_row(rec)\n",
    "    \n",
    "print(table)"
   ]
  },
  {
   "cell_type": "markdown",
   "metadata": {},
   "source": [
    "Obviously, we prefer choosing Linear kernel SVM or Multinomial Logistic Regression as the best options used for training the models and predict the results, which can not only guaranteed the high acccuracy but also require short execution time."
   ]
  },
  {
   "cell_type": "code",
   "execution_count": null,
   "metadata": {
    "collapsed": true
   },
   "outputs": [],
   "source": []
  }
 ],
 "metadata": {
  "kernelspec": {
   "display_name": "tf2",
   "language": "python",
   "name": "tf2"
  },
  "language_info": {
   "codemirror_mode": {
    "name": "ipython",
    "version": 3
   },
   "file_extension": ".py",
   "mimetype": "text/x-python",
   "name": "python",
   "nbconvert_exporter": "python",
   "pygments_lexer": "ipython3",
   "version": "3.7.9"
  }
 },
 "nbformat": 4,
 "nbformat_minor": 5
}
