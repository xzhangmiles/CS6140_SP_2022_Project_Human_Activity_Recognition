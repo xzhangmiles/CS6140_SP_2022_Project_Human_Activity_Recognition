{
 "cells": [
  {
   "cell_type": "markdown",
   "metadata": {},
   "source": [
    "References:\n",
    "1. https://machinelearningmastery.com/how-to-model-human-activity-from-smartphone-data/\n",
    "2. https://machinelearningmastery.com/evaluate-machine-learning-algorithms-for-human-activity-recognition/\n"
   ]
  },
  {
   "cell_type": "markdown",
   "metadata": {},
   "source": [
    "## Step 1: Import Necessary Libraries"
   ]
  },
  {
   "cell_type": "code",
   "execution_count": 109,
   "metadata": {},
   "outputs": [],
   "source": [
    "import numpy as np\n",
    "from pandas import read_csv\n",
    "\n",
    "from sklearn import svm\n",
    "from sklearn.linear_model import LogisticRegression\n",
    "from sklearn.tree import DecisionTreeClassifier\n",
    "\n",
    "from sklearn.metrics import confusion_matrix, accuracy_score, recall_score, precision_score, f1_score, classification_report\n",
    "from sklearn.model_selection import RepeatedStratifiedKFold\n",
    "from sklearn.model_selection import GridSearchCV\n",
    "\n",
    "from sklearn.preprocessing import StandardScaler\n",
    "from sklearn.decomposition import IncrementalPCA\n",
    "\n",
    "import time\n",
    "\n",
    "import matplotlib.pyplot as plt\n",
    "import seaborn as sns\n",
    "%matplotlib inline\n",
    "\n",
    "from sklearn.neighbors import KNeighborsClassifier\n",
    "from sklearn.svm import SVC\n",
    "from sklearn.naive_bayes import GaussianNB\n",
    "from sklearn.ensemble import BaggingClassifier\n",
    "from sklearn.ensemble import RandomForestClassifier\n",
    "from sklearn.ensemble import ExtraTreesClassifier\n",
    "from sklearn.ensemble import GradientBoostingClassifier"
   ]
  },
  {
   "cell_type": "markdown",
   "metadata": {},
   "source": [
    "## Step 2: Load Dataset"
   ]
  },
  {
   "cell_type": "code",
   "execution_count": 110,
   "metadata": {},
   "outputs": [],
   "source": [
    "# load dataset\n",
    "from numpy import dstack\n",
    "from pandas import read_csv\n",
    "\n",
    "# load a single file as a numpy array\n",
    "def load_file(filepath):\n",
    "    dataframe = read_csv(filepath, header=None, delim_whitespace=True)\n",
    "    return dataframe.values\n",
    " \n",
    "def load_dataset_group(group, prefix=''):\n",
    "    # load input data\n",
    "    X = load_file(prefix + group + '/X_'+group+'.txt')\n",
    "    # load class output\n",
    "    y = load_file(prefix + group + '/y_'+group+'.txt')\n",
    "    return X, y"
   ]
  },
  {
   "cell_type": "code",
   "execution_count": 111,
   "metadata": {},
   "outputs": [
    {
     "name": "stdout",
     "output_type": "stream",
     "text": [
      "(7352, 561) (7352, 1)\n",
      "(2947, 561) (2947, 1)\n",
      "(7352, 561) (7352,) (2947, 561) (2947,)\n",
      "(7352, 561) (7352,)\n",
      "(2947, 561) (2947,)\n"
     ]
    }
   ],
   "source": [
    "# load the dataset, returns train and test X and y elements\n",
    "def load_dataset(prefix=''):\n",
    "    # load all train\n",
    "    X_train, y_train = load_dataset_group('train', prefix + 'HARDataset/')\n",
    "    print(X_train.shape, y_train.shape)\n",
    "    # load all test\n",
    "    X_test, y_test = load_dataset_group('test', prefix + 'HARDataset/')\n",
    "    print(X_test.shape, y_test.shape)\n",
    "    # flatten y\n",
    "    y_train, y_test = y_train[:,0], y_test[:,0]\n",
    "    print(X_train.shape, y_train.shape, X_test.shape, y_test.shape)\n",
    "    return X_train, y_train, X_test, y_test\n",
    "\n",
    "# load dataset\n",
    "X_train, y_train, X_test, y_test = load_dataset()\n",
    "# load all train\n",
    "print(X_train.shape, y_train.shape)\n",
    "# load all test\n",
    "print(X_test.shape, y_test.shape)"
   ]
  },
  {
   "cell_type": "code",
   "execution_count": 112,
   "metadata": {},
   "outputs": [
    {
     "data": {
      "text/plain": [
       "array([[ 0.28858451, -0.02029417, -0.13290514, ..., -0.84124676,\n",
       "         0.17994061, -0.05862692],\n",
       "       [ 0.27841883, -0.01641057, -0.12352019, ..., -0.8447876 ,\n",
       "         0.18028889, -0.05431672],\n",
       "       [ 0.27965306, -0.01946716, -0.11346169, ..., -0.84893347,\n",
       "         0.18063731, -0.04911782],\n",
       "       ...,\n",
       "       [ 0.27338737, -0.01701062, -0.04502183, ..., -0.77913261,\n",
       "         0.24914484,  0.04081119],\n",
       "       [ 0.28965416, -0.01884304, -0.15828059, ..., -0.78518142,\n",
       "         0.24643223,  0.02533948],\n",
       "       [ 0.35150347, -0.01242312, -0.20386717, ..., -0.78326693,\n",
       "         0.24680852,  0.03669484]])"
      ]
     },
     "execution_count": 112,
     "metadata": {},
     "output_type": "execute_result"
    }
   ],
   "source": [
    "X_train"
   ]
  },
  {
   "cell_type": "markdown",
   "metadata": {},
   "source": [
    "## Step 2: Peform Feature Scaling"
   ]
  },
  {
   "cell_type": "code",
   "execution_count": 122,
   "metadata": {},
   "outputs": [
    {
     "data": {
      "text/plain": [
       "array([[ 0.20064157, -0.0636826 , -0.41962845, ..., -0.68721921,\n",
       "         0.40794614, -0.00756789],\n",
       "       [ 0.05594788,  0.03148567, -0.25390836, ..., -0.694138  ,\n",
       "         0.40911698,  0.00787517],\n",
       "       [ 0.07351535, -0.04341648, -0.07629468, ..., -0.702239  ,\n",
       "         0.4102883 ,  0.02650234],\n",
       "       ...,\n",
       "       [-0.01566765,  0.0167814 ,  1.13222107, ..., -0.56584847,\n",
       "         0.64059683,  0.34870928],\n",
       "       [ 0.21586648, -0.02812252, -0.86770988, ..., -0.57766781,\n",
       "         0.63147758,  0.29327564],\n",
       "       [ 1.09620157,  0.12919873, -1.67268082, ..., -0.57392691,\n",
       "         0.63274259,  0.33396081]])"
      ]
     },
     "execution_count": 122,
     "metadata": {},
     "output_type": "execute_result"
    }
   ],
   "source": [
    "scaler = StandardScaler()\n",
    "X_train, X_test = scaler.fit_transform(X_train), scaler.transform(X_test)\n",
    "X_train"
   ]
  },
  {
   "cell_type": "markdown",
   "metadata": {},
   "source": [
    "## Step 3: Using different models"
   ]
  },
  {
   "cell_type": "markdown",
   "metadata": {},
   "source": [
    "### (2) Random Forest Model"
   ]
  },
  {
   "cell_type": "code",
   "execution_count": 123,
   "metadata": {},
   "outputs": [
    {
     "name": "stdout",
     "output_type": "stream",
     "text": [
      "Accuracy: 0.9297590770274856\n",
      "test accuracy:  0.9297590770274856\n",
      "test recall:  0.926726254516863\n",
      "test precision:  0.9302537995928054\n",
      "test f1 score:  0.9277762874421023\n"
     ]
    }
   ],
   "source": [
    "# Random Forest\n",
    "#Import Random Forest Model\n",
    "from sklearn.ensemble import RandomForestClassifier\n",
    "from sklearn.metrics import confusion_matrix,accuracy_score, recall_score, precision_score, f1_score\n",
    "#Create a Gaussian Classifier\n",
    "clf = RandomForestClassifier(n_estimators=100)\n",
    "\n",
    "#Train the model using the training sets \n",
    "history = clf.fit(X_train, y_train)\n",
    "\n",
    "y_pred = clf.predict(X_test)\n",
    "#Import scikit-learn metrics module for accuracy calculation\n",
    "from sklearn import metrics\n",
    "# Model Accuracy, how often is the classifier correct?\n",
    "print(\"Accuracy:\",metrics.accuracy_score(y_test, y_pred))\n",
    "print(\"test accuracy: \", end=\" \")\n",
    "print(accuracy_score(y_test, y_pred))\n",
    "print(\"test recall: \", end=\" \")\n",
    "print(recall_score(y_test,y_pred , average='macro'))\n",
    "print(\"test precision: \", end=\" \")\n",
    "print(precision_score(y_test, y_pred, average='macro'))\n",
    "print(\"test f1 score: \", end=\" \")\n",
    "print(f1_score(y_test, y_pred, average='macro'))"
   ]
  },
  {
   "cell_type": "markdown",
   "metadata": {},
   "source": [
    "### (3) Logistic Regression Model"
   ]
  },
  {
   "cell_type": "markdown",
   "metadata": {},
   "source": [
    "#### - Hyperparameters Tuning for the Logistic Regression Algorithm"
   ]
  },
  {
   "cell_type": "code",
   "execution_count": 134,
   "metadata": {},
   "outputs": [
    {
     "name": "stdout",
     "output_type": "stream",
     "text": [
      "Fitting 5 folds for each of 10 candidates, totalling 50 fits\n",
      "[CV] C=0.01, solver=newton-cg ........................................\n"
     ]
    },
    {
     "name": "stderr",
     "output_type": "stream",
     "text": [
      "[Parallel(n_jobs=1)]: Using backend SequentialBackend with 1 concurrent workers.\n"
     ]
    },
    {
     "name": "stdout",
     "output_type": "stream",
     "text": [
      "[CV] ............ C=0.01, solver=newton-cg, score=0.914, total=   1.8s\n",
      "[CV] C=0.01, solver=newton-cg ........................................\n"
     ]
    },
    {
     "name": "stderr",
     "output_type": "stream",
     "text": [
      "[Parallel(n_jobs=1)]: Done   1 out of   1 | elapsed:    1.8s remaining:    0.0s\n"
     ]
    },
    {
     "name": "stdout",
     "output_type": "stream",
     "text": [
      "[CV] ............ C=0.01, solver=newton-cg, score=0.889, total=   1.8s\n",
      "[CV] C=0.01, solver=newton-cg ........................................\n"
     ]
    },
    {
     "name": "stderr",
     "output_type": "stream",
     "text": [
      "[Parallel(n_jobs=1)]: Done   2 out of   2 | elapsed:    3.6s remaining:    0.0s\n"
     ]
    },
    {
     "name": "stdout",
     "output_type": "stream",
     "text": [
      "[CV] ............ C=0.01, solver=newton-cg, score=0.932, total=   1.9s\n",
      "[CV] C=0.01, solver=newton-cg ........................................\n",
      "[CV] ............ C=0.01, solver=newton-cg, score=0.935, total=   1.9s\n",
      "[CV] C=0.01, solver=newton-cg ........................................\n",
      "[CV] ............ C=0.01, solver=newton-cg, score=0.935, total=   2.1s\n",
      "[CV] C=0.01, solver=liblinear ........................................\n",
      "[CV] ............ C=0.01, solver=liblinear, score=0.910, total=   1.8s\n",
      "[CV] C=0.01, solver=liblinear ........................................\n",
      "[CV] ............ C=0.01, solver=liblinear, score=0.885, total=   1.8s\n",
      "[CV] C=0.01, solver=liblinear ........................................\n",
      "[CV] ............ C=0.01, solver=liblinear, score=0.920, total=   1.6s\n",
      "[CV] C=0.01, solver=liblinear ........................................\n",
      "[CV] ............ C=0.01, solver=liblinear, score=0.935, total=   1.7s\n",
      "[CV] C=0.01, solver=liblinear ........................................\n",
      "[CV] ............ C=0.01, solver=liblinear, score=0.951, total=   1.8s\n",
      "[CV] C=0.1, solver=newton-cg .........................................\n",
      "[CV] ............. C=0.1, solver=newton-cg, score=0.921, total=   2.5s\n",
      "[CV] C=0.1, solver=newton-cg .........................................\n",
      "[CV] ............. C=0.1, solver=newton-cg, score=0.892, total=   2.5s\n",
      "[CV] C=0.1, solver=newton-cg .........................................\n",
      "[CV] ............. C=0.1, solver=newton-cg, score=0.944, total=   2.4s\n",
      "[CV] C=0.1, solver=newton-cg .........................................\n",
      "[CV] ............. C=0.1, solver=newton-cg, score=0.941, total=   2.7s\n",
      "[CV] C=0.1, solver=newton-cg .........................................\n",
      "[CV] ............. C=0.1, solver=newton-cg, score=0.950, total=   2.7s\n",
      "[CV] C=0.1, solver=liblinear .........................................\n",
      "[CV] ............. C=0.1, solver=liblinear, score=0.918, total=   2.5s\n",
      "[CV] C=0.1, solver=liblinear .........................................\n",
      "[CV] ............. C=0.1, solver=liblinear, score=0.895, total=   2.4s\n",
      "[CV] C=0.1, solver=liblinear .........................................\n",
      "[CV] ............. C=0.1, solver=liblinear, score=0.933, total=   2.3s\n",
      "[CV] C=0.1, solver=liblinear .........................................\n",
      "[CV] ............. C=0.1, solver=liblinear, score=0.963, total=   2.5s\n",
      "[CV] C=0.1, solver=liblinear .........................................\n",
      "[CV] ............. C=0.1, solver=liblinear, score=0.956, total=   2.5s\n",
      "[CV] C=1.0, solver=newton-cg .........................................\n",
      "[CV] ............. C=1.0, solver=newton-cg, score=0.923, total=   4.3s\n",
      "[CV] C=1.0, solver=newton-cg .........................................\n",
      "[CV] ............. C=1.0, solver=newton-cg, score=0.893, total=   4.5s\n",
      "[CV] C=1.0, solver=newton-cg .........................................\n",
      "[CV] ............. C=1.0, solver=newton-cg, score=0.942, total=   4.7s\n",
      "[CV] C=1.0, solver=newton-cg .........................................\n",
      "[CV] ............. C=1.0, solver=newton-cg, score=0.944, total=   5.5s\n",
      "[CV] C=1.0, solver=newton-cg .........................................\n",
      "[CV] ............. C=1.0, solver=newton-cg, score=0.963, total=   6.3s\n",
      "[CV] C=1.0, solver=liblinear .........................................\n",
      "[CV] ............. C=1.0, solver=liblinear, score=0.920, total=   3.3s\n",
      "[CV] C=1.0, solver=liblinear .........................................\n",
      "[CV] ............. C=1.0, solver=liblinear, score=0.897, total=   3.1s\n",
      "[CV] C=1.0, solver=liblinear .........................................\n",
      "[CV] ............. C=1.0, solver=liblinear, score=0.946, total=   3.3s\n",
      "[CV] C=1.0, solver=liblinear .........................................\n",
      "[CV] ............. C=1.0, solver=liblinear, score=0.969, total=   3.6s\n",
      "[CV] C=1.0, solver=liblinear .........................................\n",
      "[CV] ............. C=1.0, solver=liblinear, score=0.965, total=   3.3s\n",
      "[CV] C=10, solver=newton-cg ..........................................\n",
      "[CV] .............. C=10, solver=newton-cg, score=0.924, total=   7.0s\n",
      "[CV] C=10, solver=newton-cg ..........................................\n",
      "[CV] .............. C=10, solver=newton-cg, score=0.893, total=   7.5s\n",
      "[CV] C=10, solver=newton-cg ..........................................\n",
      "[CV] .............. C=10, solver=newton-cg, score=0.941, total=   9.6s\n",
      "[CV] C=10, solver=newton-cg ..........................................\n",
      "[CV] .............. C=10, solver=newton-cg, score=0.944, total=  11.3s\n",
      "[CV] C=10, solver=newton-cg ..........................................\n",
      "[CV] .............. C=10, solver=newton-cg, score=0.968, total=   7.9s\n",
      "[CV] C=10, solver=liblinear ..........................................\n",
      "[CV] .............. C=10, solver=liblinear, score=0.920, total=   4.4s\n",
      "[CV] C=10, solver=liblinear ..........................................\n",
      "[CV] .............. C=10, solver=liblinear, score=0.892, total=   4.2s\n",
      "[CV] C=10, solver=liblinear ..........................................\n",
      "[CV] .............. C=10, solver=liblinear, score=0.946, total=   3.9s\n",
      "[CV] C=10, solver=liblinear ..........................................\n",
      "[CV] .............. C=10, solver=liblinear, score=0.965, total=   4.1s\n",
      "[CV] C=10, solver=liblinear ..........................................\n",
      "[CV] .............. C=10, solver=liblinear, score=0.969, total=   4.3s\n",
      "[CV] C=100, solver=newton-cg .........................................\n",
      "[CV] ............. C=100, solver=newton-cg, score=0.919, total=   7.5s\n",
      "[CV] C=100, solver=newton-cg .........................................\n",
      "[CV] ............. C=100, solver=newton-cg, score=0.891, total=   7.3s\n",
      "[CV] C=100, solver=newton-cg .........................................\n",
      "[CV] ............. C=100, solver=newton-cg, score=0.939, total=   9.1s\n",
      "[CV] C=100, solver=newton-cg .........................................\n",
      "[CV] ............. C=100, solver=newton-cg, score=0.941, total=  13.5s\n",
      "[CV] C=100, solver=newton-cg .........................................\n",
      "[CV] ............. C=100, solver=newton-cg, score=0.969, total=   7.2s\n",
      "[CV] C=100, solver=liblinear .........................................\n",
      "[CV] ............. C=100, solver=liblinear, score=0.914, total=   4.5s\n",
      "[CV] C=100, solver=liblinear .........................................\n",
      "[CV] ............. C=100, solver=liblinear, score=0.886, total=   5.6s\n",
      "[CV] C=100, solver=liblinear .........................................\n",
      "[CV] ............. C=100, solver=liblinear, score=0.946, total=   5.2s\n",
      "[CV] C=100, solver=liblinear .........................................\n",
      "[CV] ............. C=100, solver=liblinear, score=0.954, total=   6.6s\n",
      "[CV] C=100, solver=liblinear .........................................\n",
      "[CV] ............. C=100, solver=liblinear, score=0.969, total=   4.7s\n"
     ]
    },
    {
     "name": "stderr",
     "output_type": "stream",
     "text": [
      "[Parallel(n_jobs=1)]: Done  50 out of  50 | elapsed:  3.7min finished\n"
     ]
    },
    {
     "name": "stdout",
     "output_type": "stream",
     "text": [
      "Best accuracy score is 0.939344607999556 using {'C': 1.0, 'solver': 'liblinear'}\n"
     ]
    }
   ],
   "source": [
    "lr_clf_param = LogisticRegression()\n",
    "\n",
    "# Choose two hyperparmeters\n",
    "Cs = [0.01, 0.1, 1.0, 10, 100]\n",
    "solvers = ['newton-cg', 'liblinear']\n",
    "\n",
    "# Dictionary with parameters names (str) as keys and lists of parameter settings to try as value\n",
    "grid = dict(C=Cs, solver=solvers)\n",
    "\n",
    "folds = 5\n",
    "# Loop through predefined hyperparameters (Cs, solvers) and fit LR model on the training set\n",
    "grid_search = GridSearchCV(estimator=lr_clf_param, param_grid=grid, cv=folds, scoring='accuracy', error_score=0, verbose=3)\n",
    "result = grid_search.fit(X_train, y_train)\n",
    "\n",
    "print(\"Best accuracy score is {} using {}\".format(result.best_score_, result.best_params_))"
   ]
  },
  {
   "cell_type": "markdown",
   "metadata": {},
   "source": [
    "#### - Train the Logistic Regression Model "
   ]
  },
  {
   "cell_type": "code",
   "execution_count": 135,
   "metadata": {},
   "outputs": [
    {
     "name": "stdout",
     "output_type": "stream",
     "text": [
      "training accuracy:  0.9945593035908596\n",
      "training recall:  0.994965375638666\n",
      "training precision:  0.9949990452448286\n",
      "training f1 score:  0.9949814653819219\n",
      "___________________________________________________________________________________\n",
      "test accuracy:  0.9613165931455717\n",
      "test recall:  0.9614381322685368\n",
      "test precision:  0.9648567077515965\n",
      "test f1 score:  0.9622675936985315\n"
     ]
    }
   ],
   "source": [
    "lr_clf = LogisticRegression(solver='liblinear', C=1.0, random_state=0)\n",
    "lr_clf.fit(X_train, y_train)\n",
    "\n",
    "train_y_predict = lr_clf.predict(X_train)\n",
    "\n",
    "print(\"training accuracy: \", end=\" \")\n",
    "print(accuracy_score(y_train, train_y_predict))\n",
    "print(\"training recall: \", end=\" \")\n",
    "print(recall_score(y_train, train_y_predict, average='macro'))\n",
    "print(\"training precision: \", end=\" \")\n",
    "print(precision_score(y_train, train_y_predict, average='macro'))\n",
    "print(\"training f1 score: \", end=\" \")\n",
    "print(f1_score(y_train, train_y_predict, average='macro'))\n",
    "print(\"___________________________________________________________________________________\")\n",
    "test_y_predict = lr_clf.predict(X_test)\n",
    "print(\"test accuracy: \", end=\" \")\n",
    "print(accuracy_score(y_test, test_y_predict))\n",
    "print(\"test recall: \", end=\" \")\n",
    "print(recall_score(y_test, test_y_predict, average='macro'))\n",
    "print(\"test precision: \", end=\" \")\n",
    "print(precision_score(y_test, test_y_predict, average='macro'))\n",
    "print(\"test f1 score: \", end=\" \")\n",
    "print(f1_score(y_test, test_y_predict, average='macro'))"
   ]
  },
  {
   "cell_type": "code",
   "execution_count": 136,
   "metadata": {},
   "outputs": [
    {
     "name": "stdout",
     "output_type": "stream",
     "text": [
      "                    precision    recall  f1-score   support\n",
      "\n",
      "           WALKING       0.96      1.00      0.98       496\n",
      "  WALKING_UPSTAIRS       0.99      0.96      0.97       471\n",
      "WALKING_DOWNSTAIRS       1.00      0.99      0.99       420\n",
      "           SITTING       0.96      0.87      0.92       491\n",
      "          STANDING       0.88      0.97      0.92       532\n",
      "            LAYING       1.00      0.98      0.99       537\n",
      "\n",
      "          accuracy                           0.96      2947\n",
      "         macro avg       0.96      0.96      0.96      2947\n",
      "      weighted avg       0.96      0.96      0.96      2947\n",
      "\n"
     ]
    }
   ],
   "source": [
    "target_names = [\"WALKING\", \"WALKING_UPSTAIRS\", \"WALKING_DOWNSTAIRS\", \"SITTING\",\"STANDING\",\"LAYING\"]\n",
    "\n",
    "print(classification_report(y_test, test_y_predict, target_names=target_names))"
   ]
  },
  {
   "cell_type": "code",
   "execution_count": 148,
   "metadata": {},
   "outputs": [
    {
     "data": {
      "image/png": "[encoded data removed]",
      "text/plain": [
       "<Figure size 432x288 with 1 Axes>"
      ]
     },
     "metadata": {
      "needs_background": "light"
     },
     "output_type": "display_data"
    }
   ],
   "source": [
    "visualize_classifier(lr_clf, X_train, y_train, )"
   ]
  },
  {
   "cell_type": "markdown",
   "metadata": {},
   "source": [
    "### (4) SVM model"
   ]
  },
  {
   "cell_type": "code",
   "execution_count": 137,
   "metadata": {},
   "outputs": [
    {
     "name": "stdout",
     "output_type": "stream",
     "text": [
      "training accuracy:  0.9968715995647442\n",
      "training recall:  0.9971353877800189\n",
      "training precision:  0.9970969252586269\n",
      "training f1 score:  0.9971149855563012\n",
      "___________________________________________________________________________________\n",
      "test accuracy:  0.9609772650152698\n",
      "test recall:  0.9599738518262332\n",
      "test precision:  0.9628883486486844\n",
      "test f1 score:  0.9608444740026177\n",
      "The time of execution of above program is : 5.7660231590271\n"
     ]
    }
   ],
   "source": [
    "# SVM model (Dan Li)\n",
    "\n",
    "def svm_model(X_train, y_train, X_test, y_test):\n",
    "    # Step1: finding best params\n",
    "    # ml = svm.SVC()\n",
    "    # # setting different kernel by change the value of parameter 'kernel'\n",
    "    # param_grid = {'C': [1, 10, 100, 1000, 10000],\n",
    "    #               'kernel': ['sigmoid']}\n",
    "    # grid = GridSearchCV(ml, param_grid, refit=True, verbose=1, cv=15)\n",
    "    # # fitting the model for grid search\n",
    "    # grid_search = grid.fit(X_train, y_train)\n",
    "    # best_params = grid_search.best_params_\n",
    "    # print(grid_search.best_params_)\n",
    "\n",
    "\n",
    "    # Step2: train and predict model by best params\n",
    "    # setting different kernel by change the value of parameter 'kernel'\n",
    "    model = svm.SVC(kernel='linear', C=1)\n",
    "    model.fit(X_train, y_train)\n",
    "    train_y_predict = model.predict(X_train)\n",
    "    print(\"training accuracy: \", end=\" \")\n",
    "    print(accuracy_score(y_train, train_y_predict))\n",
    "    print(\"training recall: \", end=\" \")\n",
    "    print(recall_score(y_train, train_y_predict, average='macro'))\n",
    "    print(\"training precision: \", end=\" \")\n",
    "    print(precision_score(y_train, train_y_predict, average='macro'))\n",
    "    print(\"training f1 score: \", end=\" \")\n",
    "    print(f1_score(y_train, train_y_predict, average='macro'))\n",
    "    print(\"___________________________________________________________________________________\")\n",
    "    test_y_predict = model.predict(X_test)\n",
    "    print(\"test accuracy: \", end=\" \")\n",
    "    print(accuracy_score(y_test, test_y_predict))\n",
    "    print(\"test recall: \", end=\" \")\n",
    "    print(recall_score(y_test, test_y_predict, average='macro'))\n",
    "    print(\"test precision: \", end=\" \")\n",
    "    print(precision_score(y_test, test_y_predict, average='macro'))\n",
    "    print(\"test f1 score: \", end=\" \")\n",
    "    print(f1_score(y_test, test_y_predict, average='macro'))\n",
    "\n",
    "    # Step3: plot confusion matrix\n",
    "    # cm = confusion_matrix(y_test, test_y_predict, labels=model.classes_)\n",
    "    # disp = ConfusionMatrixDisplay(confusion_matrix=cm, display_labels=model.classes_)\n",
    "    # disp.plot()\n",
    "    # plt.show()\n",
    "start = time.time()\n",
    "svm_model(X_train, y_train, X_test, y_test)\n",
    "end = time.time()\n",
    "print(\"The time of execution of above program is :\", end - start)"
   ]
  },
  {
   "cell_type": "code",
   "execution_count": 138,
   "metadata": {},
   "outputs": [],
   "source": [
    "# create a dict of standard models to evaluate {name:object}\n",
    "def define_models(models=dict()):\n",
    "    # nonlinear models\n",
    "    models['knn'] = KNeighborsClassifier(n_neighbors=7)\n",
    "    models['cart'] = DecisionTreeClassifier()\n",
    "    models['svm'] = SVC()\n",
    "    models['bayes'] = GaussianNB()\n",
    "    # ensemble models\n",
    "    models['bag'] = BaggingClassifier(n_estimators=100)\n",
    "    models['rf'] = RandomForestClassifier(n_estimators=100)\n",
    "    models['et'] = ExtraTreesClassifier(n_estimators=100)\n",
    "    models['gbm'] = GradientBoostingClassifier(n_estimators=100)\n",
    "    print('Defined %d models' % len(models))\n",
    "    return models"
   ]
  },
  {
   "cell_type": "code",
   "execution_count": 139,
   "metadata": {},
   "outputs": [],
   "source": [
    "# evaluate a single model\n",
    "def evaluate_model(X_train, y_train, X_test, y_test, model):\n",
    "    # fit the model\n",
    "    model.fit(X_train, y_train)\n",
    "    # make predictions\n",
    "    yhat = model.predict(X_test)\n",
    "    # evaluate predictions\n",
    "    accuracy = accuracy_score(y_test, yhat)\n",
    "    return accuracy * 100.0"
   ]
  },
  {
   "cell_type": "code",
   "execution_count": 140,
   "metadata": {},
   "outputs": [],
   "source": [
    "# evaluate a dict of models {name:object}, returns {name:score}\n",
    "def evaluate_models(X_train, y_train, X_test, y_test, models):\n",
    "    results = dict()\n",
    "    for name, model in models.items():\n",
    "        # evaluate the model\n",
    "        results[name] = evaluate_model(X_train, y_train, X_test, y_test, model)\n",
    "        # show process\n",
    "        print('>%s: %.3f' % (name, results[name]))\n",
    "    return results"
   ]
  },
  {
   "cell_type": "code",
   "execution_count": 141,
   "metadata": {},
   "outputs": [],
   "source": [
    "# print and plot the results\n",
    "def summarize_results(results, maximize=True):\n",
    "    # create a list of (name, mean(scores)) tuples\n",
    "    mean_scores = [(k,v) for k,v in results.items()]\n",
    "    # sort tuples by mean score\n",
    "    mean_scores = sorted(mean_scores, key=lambda x: x[1])\n",
    "    # reverse for descending order (e.g. for accuracy)\n",
    "    if maximize:\n",
    "        mean_scores = list(reversed(mean_scores))\n",
    "    print()\n",
    "    for name, score in mean_scores:\n",
    "        print('Name=%s, Score=%.3f' % (name, score))"
   ]
  },
  {
   "cell_type": "code",
   "execution_count": 142,
   "metadata": {},
   "outputs": [
    {
     "name": "stdout",
     "output_type": "stream",
     "text": [
      "Defined 8 models\n",
      ">knn: 88.633\n",
      ">cart: 85.986\n",
      ">svm: 95.215\n",
      ">bayes: 77.027\n",
      ">bag: 89.956\n",
      ">rf: 92.128\n",
      ">et: 93.960\n",
      ">gbm: 93.892\n",
      "\n",
      "Name=svm, Score=95.215\n",
      "Name=et, Score=93.960\n",
      "Name=gbm, Score=93.892\n",
      "Name=rf, Score=92.128\n",
      "Name=bag, Score=89.956\n",
      "Name=knn, Score=88.633\n",
      "Name=cart, Score=85.986\n",
      "Name=bayes, Score=77.027\n"
     ]
    }
   ],
   "source": [
    "# get model list\n",
    "models = define_models()\n",
    "# evaluate models\n",
    "results = evaluate_models(X_train, y_train, X_test, y_test, models)\n",
    "# summarize results\n",
    "summarize_results(results)"
   ]
  }
 ],
 "metadata": {
  "kernelspec": {
   "display_name": "Python 3",
   "language": "python",
   "name": "python3"
  }
 },
 "nbformat": 4,
 "nbformat_minor": 5
}
