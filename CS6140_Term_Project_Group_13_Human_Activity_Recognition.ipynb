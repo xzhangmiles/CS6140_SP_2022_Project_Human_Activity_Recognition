{
 "cells": [
  {
   "cell_type": "markdown",
   "id": "9c0bc0ec",
   "metadata": {},
   "source": [
    "References:\n",
    "1. https://machinelearningmastery.com/how-to-model-human-activity-from-smartphone-data/\n",
    "2. https://machinelearningmastery.com/evaluate-machine-learning-algorithms-for-human-activity-recognition/\n"
   ]
  },
  {
   "cell_type": "code",
   "execution_count": 2,
   "id": "d0dfbc88",
   "metadata": {},
   "outputs": [],
   "source": [
    "\n",
    "# spot check on engineered-features\n",
    "from pandas import read_csv\n",
    "from sklearn.metrics import accuracy_score\n",
    "from sklearn.neighbors import KNeighborsClassifier\n",
    "from sklearn.tree import DecisionTreeClassifier\n",
    "from sklearn.svm import SVC\n",
    "from sklearn.naive_bayes import GaussianNB\n",
    "from sklearn.ensemble import BaggingClassifier\n",
    "from sklearn.ensemble import RandomForestClassifier\n",
    "from sklearn.ensemble import ExtraTreesClassifier\n",
    "from sklearn.ensemble import GradientBoostingClassifier"
   ]
  },
  {
   "cell_type": "code",
   "execution_count": 4,
   "id": "a01224ea",
   "metadata": {},
   "outputs": [],
   "source": [
    "# load dataset\n",
    "from numpy import dstack\n",
    "from pandas import read_csv\n",
    "\n",
    "# load a single file as a numpy array\n",
    "def load_file(filepath):\n",
    "    dataframe = read_csv(filepath, header=None, delim_whitespace=True)\n",
    "    return dataframe.values\n",
    " \n",
    "def load_dataset_group(group, prefix=''):\n",
    "    # load input data\n",
    "    X = load_file(prefix + group + '/X_'+group+'.txt')\n",
    "    # load class output\n",
    "    y = load_file(prefix + group + '/y_'+group+'.txt')\n",
    "    return X, y"
   ]
  },
  {
   "cell_type": "code",
   "execution_count": 6,
   "id": "1ffc0ab7",
   "metadata": {},
   "outputs": [
    {
     "name": "stdout",
     "output_type": "stream",
     "text": [
      "(7352, 561) (7352, 1)\n",
      "(2947, 561) (2947, 1)\n",
      "(7352, 561) (7352,) (2947, 561) (2947,)\n",
      "(7352, 561) (7352,)\n",
      "(2947, 561) (2947,)\n"
     ]
    }
   ],
   "source": [
    "# load the dataset, returns train and test X and y elements\n",
    "def load_dataset(prefix=''):\n",
    "    # load all train\n",
    "    trainX, trainy = load_dataset_group('train', prefix + 'HARDataset/')\n",
    "    print(trainX.shape, trainy.shape)\n",
    "    # load all test\n",
    "    testX, testy = load_dataset_group('test', prefix + 'HARDataset/')\n",
    "    print(testX.shape, testy.shape)\n",
    "    # flatten y\n",
    "    trainy, testy = trainy[:,0], testy[:,0]\n",
    "    print(trainX.shape, trainy.shape, testX.shape, testy.shape)\n",
    "    return trainX, trainy, testX, testy\n",
    "# load dataset\n",
    "trainX, trainy, testX, testy = load_dataset()\n",
    "# load all train\n",
    "print(trainX.shape, trainy.shape)\n",
    "# load all test\n",
    "print(testX.shape, testy.shape)"
   ]
  },
  {
   "cell_type": "code",
   "execution_count": 9,
   "id": "3f0f6a64",
   "metadata": {},
   "outputs": [
    {
     "name": "stdout",
     "output_type": "stream",
     "text": [
      "training accuracy:  0.9938792165397171\n",
      "training recall:  0.9943671744302657\n",
      "training precision:  0.9943439381310409\n",
      "training f1 score:  0.9943551382036183\n",
      "___________________________________________________________________________________\n",
      "test accuracy:  0.9640312181879878\n",
      "test recall:  0.9635891623206801\n",
      "test precision:  0.9658952454847611\n",
      "test f1 score:  0.9641983433163016\n",
      "The time of execution of above program is : 2.1557419300079346\n"
     ]
    }
   ],
   "source": [
    "# SVM model (Dan Li)\n",
    "from sklearn import svm\n",
    "from pandas import read_csv\n",
    "import time\n",
    "from sklearn.metrics import confusion_matrix,accuracy_score, recall_score, precision_score, f1_score\n",
    "def svm_model(trainX, trainy, testX, testy):\n",
    "    # Step1: finding best params\n",
    "    # ml = svm.SVC()\n",
    "    # # setting different kernel by change the value of parameter 'kernel'\n",
    "    # param_grid = {'C': [1, 10, 100, 1000, 10000],\n",
    "    #               'kernel': ['sigmoid']}\n",
    "    # grid = GridSearchCV(ml, param_grid, refit=True, verbose=1, cv=15)\n",
    "    # # fitting the model for grid search\n",
    "    # grid_search = grid.fit(trainX, trainy)\n",
    "    # best_params = grid_search.best_params_\n",
    "    # print(grid_search.best_params_)\n",
    "\n",
    "\n",
    "    # Step2: train and predict model by best params\n",
    "    # setting different kernel by change the value of parameter 'kernel'\n",
    "    model = svm.SVC(kernel='linear', C=1)\n",
    "    model.fit(trainX, trainy)\n",
    "    train_y_predict = model.predict(trainX)\n",
    "    print(\"training accuracy: \", end=\" \")\n",
    "    print(accuracy_score(trainy, train_y_predict))\n",
    "    print(\"training recall: \", end=\" \")\n",
    "    print(recall_score(trainy, train_y_predict, average='macro'))\n",
    "    print(\"training precision: \", end=\" \")\n",
    "    print(precision_score(trainy, train_y_predict, average='macro'))\n",
    "    print(\"training f1 score: \", end=\" \")\n",
    "    print(f1_score(trainy, train_y_predict, average='macro'))\n",
    "    print(\"___________________________________________________________________________________\")\n",
    "    test_y_predict = model.predict(testX)\n",
    "    print(\"test accuracy: \", end=\" \")\n",
    "    print(accuracy_score(testy, test_y_predict))\n",
    "    print(\"test recall: \", end=\" \")\n",
    "    print(recall_score(testy, test_y_predict, average='macro'))\n",
    "    print(\"test precision: \", end=\" \")\n",
    "    print(precision_score(testy, test_y_predict, average='macro'))\n",
    "    print(\"test f1 score: \", end=\" \")\n",
    "    print(f1_score(testy, test_y_predict, average='macro'))\n",
    "\n",
    "    # Step3: plot confusion matrix\n",
    "    # cm = confusion_matrix(testy, test_y_predict, labels=model.classes_)\n",
    "    # disp = ConfusionMatrixDisplay(confusion_matrix=cm, display_labels=model.classes_)\n",
    "    # disp.plot()\n",
    "    # plt.show()\n",
    "start = time.time()\n",
    "svm_model(trainX, trainy, testX, testy)\n",
    "end = time.time()\n",
    "print(\"The time of execution of above program is :\", end - start)"
   ]
  },
  {
   "cell_type": "code",
   "execution_count": 34,
   "id": "9a39e93c",
   "metadata": {},
   "outputs": [],
   "source": [
    "# create a dict of standard models to evaluate {name:object}\n",
    "def define_models(models=dict()):\n",
    "    # nonlinear models\n",
    "    models['knn'] = KNeighborsClassifier(n_neighbors=7)\n",
    "    models['cart'] = DecisionTreeClassifier()\n",
    "    models['svm'] = SVC()\n",
    "    models['bayes'] = GaussianNB()\n",
    "    # ensemble models\n",
    "    models['bag'] = BaggingClassifier(n_estimators=100)\n",
    "    models['rf'] = RandomForestClassifier(n_estimators=100)\n",
    "    models['et'] = ExtraTreesClassifier(n_estimators=100)\n",
    "    models['gbm'] = GradientBoostingClassifier(n_estimators=100)\n",
    "    print('Defined %d models' % len(models))\n",
    "    return models"
   ]
  },
  {
   "cell_type": "code",
   "execution_count": 35,
   "id": "391b8352",
   "metadata": {},
   "outputs": [],
   "source": [
    "# evaluate a single model\n",
    "def evaluate_model(trainX, trainy, testX, testy, model):\n",
    "    # fit the model\n",
    "    model.fit(trainX, trainy)\n",
    "    # make predictions\n",
    "    yhat = model.predict(testX)\n",
    "    # evaluate predictions\n",
    "    accuracy = accuracy_score(testy, yhat)\n",
    "    return accuracy * 100.0"
   ]
  },
  {
   "cell_type": "code",
   "execution_count": 36,
   "id": "5e30be51",
   "metadata": {},
   "outputs": [],
   "source": [
    "# evaluate a dict of models {name:object}, returns {name:score}\n",
    "def evaluate_models(trainX, trainy, testX, testy, models):\n",
    "    results = dict()\n",
    "    for name, model in models.items():\n",
    "        # evaluate the model\n",
    "        results[name] = evaluate_model(trainX, trainy, testX, testy, model)\n",
    "        # show process\n",
    "        print('>%s: %.3f' % (name, results[name]))\n",
    "    return results"
   ]
  },
  {
   "cell_type": "code",
   "execution_count": 37,
   "id": "b8caa1a9",
   "metadata": {},
   "outputs": [],
   "source": [
    "# print and plot the results\n",
    "def summarize_results(results, maximize=True):\n",
    "    # create a list of (name, mean(scores)) tuples\n",
    "    mean_scores = [(k,v) for k,v in results.items()]\n",
    "    # sort tuples by mean score\n",
    "    mean_scores = sorted(mean_scores, key=lambda x: x[1])\n",
    "    # reverse for descending order (e.g. for accuracy)\n",
    "    if maximize:\n",
    "        mean_scores = list(reversed(mean_scores))\n",
    "    print()\n",
    "    for name, score in mean_scores:\n",
    "        print('Name=%s, Score=%.3f' % (name, score))"
   ]
  },
  {
   "cell_type": "code",
   "execution_count": 38,
   "id": "a69df766",
   "metadata": {},
   "outputs": [
    {
     "name": "stdout",
     "output_type": "stream",
     "text": [
      "Defined 8 models\n",
      ">knn: 90.329\n",
      ">cart: 85.341\n",
      ">svm: 95.046\n",
      ">bayes: 77.027\n",
      ">bag: 89.752\n",
      ">rf: 92.874\n",
      ">et: 93.960\n",
      ">gbm: 93.926\n",
      "\n",
      "Name=svm, Score=95.046\n",
      "Name=et, Score=93.960\n",
      "Name=gbm, Score=93.926\n",
      "Name=rf, Score=92.874\n",
      "Name=knn, Score=90.329\n",
      "Name=bag, Score=89.752\n",
      "Name=cart, Score=85.341\n",
      "Name=bayes, Score=77.027\n"
     ]
    }
   ],
   "source": [
    "# get model list\n",
    "models = define_models()\n",
    "# evaluate models\n",
    "results = evaluate_models(trainX, trainy, testX, testy, models)\n",
    "# summarize results\n",
    "summarize_results(results)"
   ]
  },
  {
   "cell_type": "code",
   "execution_count": null,
   "id": "aff101ec",
   "metadata": {},
   "outputs": [],
   "source": []
  }
 ],
 "metadata": {
  "kernelspec": {
   "display_name": "Python 3 (ipykernel)",
   "language": "python",
   "name": "python3"
  },
  "language_info": {
   "codemirror_mode": {
    "name": "ipython",
    "version": 3
   },
   "file_extension": ".py",
   "mimetype": "text/x-python",
   "name": "python",
   "nbconvert_exporter": "python",
   "pygments_lexer": "ipython3",
   "version": "3.8.5"
  }
 },
 "nbformat": 4,
 "nbformat_minor": 5
}
