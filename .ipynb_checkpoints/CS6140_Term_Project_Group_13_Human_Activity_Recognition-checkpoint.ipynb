{
 "cells": [
  {
   "cell_type": "markdown",
   "metadata": {},
   "source": [
    "References:\n",
    "1. https://machinelearningmastery.com/how-to-model-human-activity-from-smartphone-data/\n",
    "2. https://machinelearningmastery.com/evaluate-machine-learning-algorithms-for-human-activity-recognition/\n"
   ]
  },
  {
   "cell_type": "markdown",
   "metadata": {},
   "source": [
    "## Step 1: Import Necessary Libraries"
   ]
  },
  {
   "cell_type": "code",
   "execution_count": 11,
   "metadata": {},
   "outputs": [],
   "source": [
    "\n",
    "# spot check on engineered-features\n",
    "from pandas import read_csv\n",
    "from sklearn.metrics import accuracy_score\n",
    "from sklearn.neighbors import KNeighborsClassifier\n",
    "from sklearn.tree import DecisionTreeClassifier\n",
    "from sklearn.svm import SVC\n",
    "from sklearn.naive_bayes import GaussianNB\n",
    "from sklearn.ensemble import BaggingClassifier\n",
    "from sklearn.ensemble import RandomForestClassifier\n",
    "from sklearn.ensemble import ExtraTreesClassifier\n",
    "from sklearn.ensemble import GradientBoostingClassifier"
   ]
  },
  {
   "cell_type": "markdown",
   "metadata": {},
   "source": [
    "## Step 2: Load Dataset"
   ]
  },
  {
   "cell_type": "code",
   "execution_count": 4,
   "metadata": {},
   "outputs": [],
   "source": [
    "# load dataset\n",
    "from numpy import dstack\n",
    "from pandas import read_csv\n",
    "\n",
    "# load a single file as a numpy array\n",
    "def load_file(filepath):\n",
    "    dataframe = read_csv(filepath, header=None, delim_whitespace=True)\n",
    "    return dataframe.values\n",
    " \n",
    "def load_dataset_group(group, prefix=''):\n",
    "    # load input data\n",
    "    X = load_file(prefix + group + '/X_'+group+'.txt')\n",
    "    # load class output\n",
    "    y = load_file(prefix + group + '/y_'+group+'.txt')\n",
    "    return X, y"
   ]
  },
  {
   "cell_type": "code",
   "execution_count": 7,
   "metadata": {},
   "outputs": [
    {
     "name": "stdout",
     "output_type": "stream",
     "text": [
      "(7352, 561) (7352, 1)\n",
      "(2947, 561) (2947, 1)\n",
      "(7352, 561) (7352,) (2947, 561) (2947,)\n",
      "(7352, 561) (7352,)\n",
      "(2947, 561) (2947,)\n"
     ]
    }
   ],
   "source": [
    "# load the dataset, returns train and test X and y elements\n",
    "def load_dataset(prefix=''):\n",
    "    # load all train\n",
    "    X_train, y_train = load_dataset_group('train', prefix + 'HARDataset/')\n",
    "    print(X_train.shape, y_train.shape)\n",
    "    # load all test\n",
    "    X_test, y_test = load_dataset_group('test', prefix + 'HARDataset/')\n",
    "    print(X_test.shape, y_test.shape)\n",
    "    # flatten y\n",
    "    y_train, y_test = y_train[:,0], y_test[:,0]\n",
    "    print(X_train.shape, y_train.shape, X_test.shape, y_test.shape)\n",
    "    return X_train, y_train, X_test, y_test\n",
    "\n",
    "# load dataset\n",
    "X_train, y_train, X_test, y_test = load_dataset()\n",
    "# load all train\n",
    "print(X_train.shape, y_train.shape)\n",
    "# load all test\n",
    "print(X_test.shape, y_test.shape)"
   ]
  },
  {
   "cell_type": "markdown",
   "metadata": {},
   "source": [
    "## Step 3: Using different models"
   ]
  },
  {
   "cell_type": "code",
   "execution_count": null,
   "metadata": {},
   "outputs": [],
   "source": []
  },
  {
   "cell_type": "markdown",
   "metadata": {},
   "source": [
    "## Step 5. SVM model"
   ]
  },
  {
   "cell_type": "code",
   "execution_count": 15,
   "metadata": {},
   "outputs": [
    {
     "name": "stdout",
     "output_type": "stream",
     "text": [
      "training accuracy:  0.9938792165397171\n",
      "training recall:  0.9943671744302657\n",
      "training precision:  0.9943439381310409\n",
      "training f1 score:  0.9943551382036183\n",
      "___________________________________________________________________________________\n",
      "test accuracy:  0.9640312181879878\n",
      "test recall:  0.9635891623206801\n",
      "test precision:  0.9658952454847611\n",
      "test f1 score:  0.9641983433163016\n",
      "The time of execution of above program is : 5.095134973526001\n"
     ]
    }
   ],
   "source": [
    "# SVM model (Dan Li)\n",
    "from sklearn import svm\n",
    "from pandas import read_csv\n",
    "import time\n",
    "from sklearn.metrics import confusion_matrix,accuracy_score, recall_score, precision_score, f1_score\n",
    "def svm_model(trainX, trainy, testX, testy):\n",
    "    # Step1: finding best params\n",
    "    # ml = svm.SVC()\n",
    "    # # setting different kernel by change the value of parameter 'kernel'\n",
    "    # param_grid = {'C': [1, 10, 100, 1000, 10000],\n",
    "    #               'kernel': ['sigmoid']}\n",
    "    # grid = GridSearchCV(ml, param_grid, refit=True, verbose=1, cv=15)\n",
    "    # # fitting the model for grid search\n",
    "    # grid_search = grid.fit(trainX, trainy)\n",
    "    # best_params = grid_search.best_params_\n",
    "    # print(grid_search.best_params_)\n",
    "\n",
    "\n",
    "    # Step2: train and predict model by best params\n",
    "    # setting different kernel by change the value of parameter 'kernel'\n",
    "    model = svm.SVC(kernel='linear', C=1)\n",
    "    model.fit(trainX, trainy)\n",
    "    train_y_predict = model.predict(trainX)\n",
    "    print(\"training accuracy: \", end=\" \")\n",
    "    print(accuracy_score(trainy, train_y_predict))\n",
    "    print(\"training recall: \", end=\" \")\n",
    "    print(recall_score(trainy, train_y_predict, average='macro'))\n",
    "    print(\"training precision: \", end=\" \")\n",
    "    print(precision_score(trainy, train_y_predict, average='macro'))\n",
    "    print(\"training f1 score: \", end=\" \")\n",
    "    print(f1_score(trainy, train_y_predict, average='macro'))\n",
    "    print(\"___________________________________________________________________________________\")\n",
    "    test_y_predict = model.predict(testX)\n",
    "    print(\"test accuracy: \", end=\" \")\n",
    "    print(accuracy_score(testy, test_y_predict))\n",
    "    print(\"test recall: \", end=\" \")\n",
    "    print(recall_score(testy, test_y_predict, average='macro'))\n",
    "    print(\"test precision: \", end=\" \")\n",
    "    print(precision_score(testy, test_y_predict, average='macro'))\n",
    "    print(\"test f1 score: \", end=\" \")\n",
    "    print(f1_score(testy, test_y_predict, average='macro'))\n",
    "\n",
    "    # Step3: plot confusion matrix\n",
    "    # cm = confusion_matrix(testy, test_y_predict, labels=model.classes_)\n",
    "    # disp = ConfusionMatrixDisplay(confusion_matrix=cm, display_labels=model.classes_)\n",
    "    # disp.plot()\n",
    "    # plt.show()\n",
    "start = time.time()\n",
    "svm_model(trainX, trainy, testX, testy)\n",
    "end = time.time()\n",
    "print(\"The time of execution of above program is :\", end - start)"
   ]
  },
  {
   "cell_type": "code",
   "execution_count": 2,
   "metadata": {},
   "outputs": [
    {
     "ename": "NameError",
     "evalue": "name 'trainX' is not defined",
     "output_type": "error",
     "traceback": [
      "\u001b[0;31m---------------------------------------------------------------------------\u001b[0m",
      "\u001b[0;31mNameError\u001b[0m                                 Traceback (most recent call last)",
      "\u001b[0;32m<ipython-input-2-81738ad175ca>\u001b[0m in \u001b[0;36m<module>\u001b[0;34m\u001b[0m\n\u001b[1;32m      3\u001b[0m \u001b[0;34m\u001b[0m\u001b[0m\n\u001b[1;32m      4\u001b[0m \u001b[0mlr_clf\u001b[0m \u001b[0;34m=\u001b[0m \u001b[0mLogisticRegression\u001b[0m\u001b[0;34m(\u001b[0m\u001b[0msolver\u001b[0m\u001b[0;34m=\u001b[0m\u001b[0;34m'liblinear'\u001b[0m\u001b[0;34m,\u001b[0m \u001b[0mrandom_state\u001b[0m\u001b[0;34m=\u001b[0m\u001b[0;36m0\u001b[0m\u001b[0;34m)\u001b[0m\u001b[0;34m\u001b[0m\u001b[0;34m\u001b[0m\u001b[0m\n\u001b[0;32m----> 5\u001b[0;31m \u001b[0mlr_clf\u001b[0m\u001b[0;34m.\u001b[0m\u001b[0mfit\u001b[0m\u001b[0;34m(\u001b[0m\u001b[0mtrainX\u001b[0m\u001b[0;34m,\u001b[0m \u001b[0mtrainy\u001b[0m\u001b[0;34m)\u001b[0m\u001b[0;34m\u001b[0m\u001b[0;34m\u001b[0m\u001b[0m\n\u001b[0m\u001b[1;32m      6\u001b[0m \u001b[0;34m\u001b[0m\u001b[0m\n\u001b[1;32m      7\u001b[0m \u001b[0mtrain_y_predict\u001b[0m \u001b[0;34m=\u001b[0m \u001b[0mlr_clf\u001b[0m\u001b[0;34m.\u001b[0m\u001b[0mpredict\u001b[0m\u001b[0;34m(\u001b[0m\u001b[0mtrainX\u001b[0m\u001b[0;34m)\u001b[0m\u001b[0;34m\u001b[0m\u001b[0;34m\u001b[0m\u001b[0m\n",
      "\u001b[0;31mNameError\u001b[0m: name 'trainX' is not defined"
     ]
    }
   ],
   "source": [
    "# Logistic Regression Model Fitting\n",
    "from sklearn.linear_model import LogisticRegression\n",
    "\n",
    "lr_clf = LogisticRegression(solver='liblinear', random_state=0)\n",
    "lr_clf.fit(X_train, trainy)\n",
    "\n",
    "train_y_predict = lr_clf.predict(X_train)\n",
    "print(\"training accuracy: \", end=\" \")\n",
    "print(accuracy_score(trainy, train_y_predict))\n",
    "print(\"training recall: \", end=\" \")\n",
    "print(recall_score(trainy, train_y_predict, average='macro'))\n",
    "print(\"training precision: \", end=\" \")\n",
    "print(precision_score(trainy, train_y_predict, average='macro'))\n",
    "print(\"training f1 score: \", end=\" \")\n",
    "print(f1_score(trainy, train_y_predict, average='macro'))\n",
    "print(\"___________________________________________________________________________________\")\n",
    "test_y_predict = lr_clf.predict(testX)\n",
    "print(\"test accuracy: \", end=\" \")\n",
    "print(accuracy_score(testy, test_y_predict))\n",
    "print(\"test recall: \", end=\" \")\n",
    "print(recall_score(testy, test_y_predict, average='macro'))\n",
    "print(\"test precision: \", end=\" \")\n",
    "print(precision_score(testy, test_y_predict, average='macro'))\n",
    "print(\"test f1 score: \", end=\" \")\n",
    "print(f1_score(testy, test_y_predict, average='macro'))"
   ]
  },
  {
   "cell_type": "code",
   "execution_count": 1,
   "metadata": {},
   "outputs": [
    {
     "ename": "NameError",
     "evalue": "name 'classification_report' is not defined",
     "output_type": "error",
     "traceback": [
      "\u001b[0;31m---------------------------------------------------------------------------\u001b[0m",
      "\u001b[0;31mNameError\u001b[0m                                 Traceback (most recent call last)",
      "\u001b[0;32m<ipython-input-1-548c125d1c95>\u001b[0m in \u001b[0;36m<module>\u001b[0;34m\u001b[0m\n\u001b[0;32m----> 1\u001b[0;31m \u001b[0mprint\u001b[0m\u001b[0;34m(\u001b[0m\u001b[0mclassification_report\u001b[0m\u001b[0;34m(\u001b[0m\u001b[0mtesty\u001b[0m\u001b[0;34m,\u001b[0m \u001b[0mtest_y_predict\u001b[0m\u001b[0;34m,\u001b[0m \u001b[0mtarget_names\u001b[0m\u001b[0;34m=\u001b[0m\u001b[0mtarget_names\u001b[0m\u001b[0;34m)\u001b[0m\u001b[0;34m)\u001b[0m\u001b[0;34m\u001b[0m\u001b[0;34m\u001b[0m\u001b[0m\n\u001b[0m",
      "\u001b[0;31mNameError\u001b[0m: name 'classification_report' is not defined"
     ]
    }
   ],
   "source": [
    "from sklearn.metrics import classification_report\n",
    "import numpy as np\n",
    "target_names = [\"WALKING\", \"WALKING_UPSTAIRS\", \"WALKING_DOWNSTAIRS\", \"SITTING\",\"STANDING\",\"LAYING\"]\n",
    "\n",
    "print(classification_report(testy, test_y_predict, target_names=target_names))"
   ]
  },
  {
   "cell_type": "code",
   "execution_count": null,
   "metadata": {},
   "outputs": [],
   "source": [
    "# create a dict of standard models to evaluate {name:object}\n",
    "def define_models(models=dict()):\n",
    "    # nonlinear models\n",
    "    models['knn'] = KNeighborsClassifier(n_neighbors=7)\n",
    "    models['cart'] = DecisionTreeClassifier()\n",
    "    models['svm'] = SVC()\n",
    "    models['bayes'] = GaussianNB()\n",
    "    # ensemble models\n",
    "    models['bag'] = BaggingClassifier(n_estimators=100)\n",
    "    models['rf'] = RandomForestClassifier(n_estimators=100)\n",
    "    models['et'] = ExtraTreesClassifier(n_estimators=100)\n",
    "    models['gbm'] = GradientBoostingClassifier(n_estimators=100)\n",
    "    print('Defined %d models' % len(models))\n",
    "    return models"
   ]
  },
  {
   "cell_type": "code",
   "execution_count": null,
   "metadata": {},
   "outputs": [],
   "source": [
    "# evaluate a single model\n",
    "def evaluate_model(trainX, trainy, testX, testy, model):\n",
    "    # fit the model\n",
    "    model.fit(trainX, trainy)\n",
    "    # make predictions\n",
    "    yhat = model.predict(testX)\n",
    "    # evaluate predictions\n",
    "    accuracy = accuracy_score(testy, yhat)\n",
    "    return accuracy * 100.0"
   ]
  },
  {
   "cell_type": "code",
   "execution_count": null,
   "metadata": {},
   "outputs": [],
   "source": [
    "# evaluate a dict of models {name:object}, returns {name:score}\n",
    "def evaluate_models(trainX, trainy, testX, testy, models):\n",
    "    results = dict()\n",
    "    for name, model in models.items():\n",
    "        # evaluate the model\n",
    "        results[name] = evaluate_model(trainX, trainy, testX, testy, model)\n",
    "        # show process\n",
    "        print('>%s: %.3f' % (name, results[name]))\n",
    "    return results"
   ]
  },
  {
   "cell_type": "code",
   "execution_count": null,
   "metadata": {},
   "outputs": [],
   "source": [
    "# print and plot the results\n",
    "def summarize_results(results, maximize=True):\n",
    "    # create a list of (name, mean(scores)) tuples\n",
    "    mean_scores = [(k,v) for k,v in results.items()]\n",
    "    # sort tuples by mean score\n",
    "    mean_scores = sorted(mean_scores, key=lambda x: x[1])\n",
    "    # reverse for descending order (e.g. for accuracy)\n",
    "    if maximize:\n",
    "        mean_scores = list(reversed(mean_scores))\n",
    "    print()\n",
    "    for name, score in mean_scores:\n",
    "        print('Name=%s, Score=%.3f' % (name, score))"
   ]
  },
  {
   "cell_type": "code",
   "execution_count": null,
   "metadata": {},
   "outputs": [],
   "source": [
    "# get model list\n",
    "models = define_models()\n",
    "# evaluate models\n",
    "results = evaluate_models(trainX, trainy, testX, testy, models)\n",
    "# summarize results\n",
    "summarize_results(results)"
   ]
  },
  {
   "cell_type": "code",
   "execution_count": null,
   "metadata": {},
   "outputs": [],
   "source": []
  }
 ],
 "metadata": {
  "kernelspec": {
   "display_name": "Python 3",
   "language": "python",
   "name": "python3"
  },
  "language_info": {
   "codemirror_mode": {
    "name": "ipython",
    "version": 3
   },
   "file_extension": ".py",
   "mimetype": "text/x-python",
   "name": "python",
   "nbconvert_exporter": "python",
   "pygments_lexer": "ipython3",
   "version": "3.8.5"
  }
 },
 "nbformat": 4,
 "nbformat_minor": 5
}
